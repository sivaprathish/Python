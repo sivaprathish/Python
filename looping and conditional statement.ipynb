{
 "cells": [
  {
   "cell_type": "markdown",
   "id": "dc7508b2",
   "metadata": {},
   "source": [
    "# Name: sivaprathish\n",
    "# id:E6221008\n",
    "# stream: b.sc data science\n",
    "# course: python\n",
    "# course code : csc 120\n",
    "# date :7.12.2021"
   ]
  },
  {
   "cell_type": "markdown",
   "id": "950307c3",
   "metadata": {},
   "source": [
    "# looping statement;control statement"
   ]
  },
  {
   "cell_type": "code",
   "execution_count": 2,
   "id": "4c0877db",
   "metadata": {},
   "outputs": [],
   "source": [
    "list1=[1,2,3,4]"
   ]
  },
  {
   "cell_type": "code",
   "execution_count": 6,
   "id": "17c5ff18",
   "metadata": {},
   "outputs": [
    {
     "name": "stdout",
     "output_type": "stream",
     "text": [
      "2\n",
      "4\n",
      "6\n",
      "8\n"
     ]
    }
   ],
   "source": [
    "for i in list1:\n",
    "    print(i*2)"
   ]
  },
  {
   "cell_type": "code",
   "execution_count": 7,
   "id": "f9271411",
   "metadata": {},
   "outputs": [],
   "source": [
    "l=[i**2for i in list1]"
   ]
  },
  {
   "cell_type": "code",
   "execution_count": 8,
   "id": "a3e216d4",
   "metadata": {},
   "outputs": [
    {
     "data": {
      "text/plain": [
       "[1, 4, 9, 16]"
      ]
     },
     "execution_count": 8,
     "metadata": {},
     "output_type": "execute_result"
    }
   ],
   "source": [
    "l"
   ]
  },
  {
   "cell_type": "code",
   "execution_count": 9,
   "id": "48e4e2d0",
   "metadata": {},
   "outputs": [],
   "source": [
    "k=[i**8for i in l]"
   ]
  },
  {
   "cell_type": "code",
   "execution_count": 10,
   "id": "cb767f4f",
   "metadata": {},
   "outputs": [
    {
     "data": {
      "text/plain": [
       "[1, 65536, 43046721, 4294967296]"
      ]
     },
     "execution_count": 10,
     "metadata": {},
     "output_type": "execute_result"
    }
   ],
   "source": [
    "k"
   ]
  },
  {
   "cell_type": "code",
   "execution_count": 11,
   "id": "c66b6855",
   "metadata": {},
   "outputs": [],
   "source": [
    "f=[i*(i-2)for i in l]"
   ]
  },
  {
   "cell_type": "code",
   "execution_count": 12,
   "id": "293ba4db",
   "metadata": {},
   "outputs": [
    {
     "data": {
      "text/plain": [
       "[-1, 8, 63, 224]"
      ]
     },
     "execution_count": 12,
     "metadata": {},
     "output_type": "execute_result"
    }
   ],
   "source": [
    "f"
   ]
  },
  {
   "cell_type": "code",
   "execution_count": 13,
   "id": "3741cef6",
   "metadata": {},
   "outputs": [],
   "source": [
    "list1=[100,200,300,200,300,100]\n",
    "while 100 in list1:\n",
    "    list1.remove(100)"
   ]
  },
  {
   "cell_type": "code",
   "execution_count": 14,
   "id": "33fa368e",
   "metadata": {},
   "outputs": [
    {
     "data": {
      "text/plain": [
       "[200, 300, 200, 300]"
      ]
     },
     "execution_count": 14,
     "metadata": {},
     "output_type": "execute_result"
    }
   ],
   "source": [
    "list1"
   ]
  },
  {
   "cell_type": "code",
   "execution_count": 16,
   "id": "43de54fe",
   "metadata": {
    "scrolled": true
   },
   "outputs": [
    {
     "name": "stdout",
     "output_type": "stream",
     "text": [
      "['prathish', 'python']\n"
     ]
    }
   ],
   "source": [
    "list1=[\"siva\",\"prathish\",\"python\"]\n",
    "while \"siva\" in list1:\n",
    "    list1.remove(\"siva\")\n",
    "    print(list1)"
   ]
  },
  {
   "cell_type": "code",
   "execution_count": 23,
   "id": "70f650fd",
   "metadata": {},
   "outputs": [
    {
     "data": {
      "text/plain": [
       "[200, 200]"
      ]
     },
     "execution_count": 23,
     "metadata": {},
     "output_type": "execute_result"
    }
   ],
   "source": [
    "list1=[100,200,300,200,300,100]\n",
    "list1[1:5:2]"
   ]
  },
  {
   "cell_type": "code",
   "execution_count": 26,
   "id": "8f497e34",
   "metadata": {},
   "outputs": [
    {
     "data": {
      "text/plain": [
       "[100, 200, 300, 200, 300, 100]"
      ]
     },
     "execution_count": 26,
     "metadata": {},
     "output_type": "execute_result"
    }
   ],
   "source": [
    "list1[0:6:]"
   ]
  },
  {
   "cell_type": "code",
   "execution_count": 39,
   "id": "0d56bb0c",
   "metadata": {},
   "outputs": [],
   "source": [
    "list1=[1,2,9,[100, 200, 300, 200, 300, 100],4]"
   ]
  },
  {
   "cell_type": "code",
   "execution_count": 40,
   "id": "884fabd8",
   "metadata": {},
   "outputs": [
    {
     "data": {
      "text/plain": [
       "[100, 200, 300, 200, 300, 100]"
      ]
     },
     "execution_count": 40,
     "metadata": {},
     "output_type": "execute_result"
    }
   ],
   "source": [
    "# nested list\n",
    "list1[3]"
   ]
  },
  {
   "cell_type": "code",
   "execution_count": 41,
   "id": "951c50fd",
   "metadata": {},
   "outputs": [
    {
     "data": {
      "text/plain": [
       "300"
      ]
     },
     "execution_count": 41,
     "metadata": {},
     "output_type": "execute_result"
    }
   ],
   "source": [
    "#acess nested if\n",
    "list1[3][4]"
   ]
  },
  {
   "cell_type": "raw",
   "id": "9aeb2618",
   "metadata": {},
   "source": [
    " List: Basic Operations\n",
    "    1.len\n",
    "    2.in\n",
    "    3.not in\n",
    "    4.max\n",
    "    5.min\n",
    "    6.count\n",
    "    7.remove\n",
    "    8.filter\n",
    "    9.sum\n",
    "    10.sorted\n",
    "    11.del \n",
    "    12.insert\n",
    "    13.append\n",
    "    14.reverse \n",
    "    \n"
   ]
  },
  {
   "cell_type": "code",
   "execution_count": 42,
   "id": "1b1f0507",
   "metadata": {},
   "outputs": [],
   "source": [
    "del list1[3]"
   ]
  },
  {
   "cell_type": "code",
   "execution_count": 43,
   "id": "1f0bebbe",
   "metadata": {},
   "outputs": [
    {
     "data": {
      "text/plain": [
       "[1, 2, 9, 4]"
      ]
     },
     "execution_count": 43,
     "metadata": {},
     "output_type": "execute_result"
    }
   ],
   "source": [
    "list1"
   ]
  },
  {
   "cell_type": "code",
   "execution_count": 44,
   "id": "8e927374",
   "metadata": {},
   "outputs": [
    {
     "data": {
      "text/plain": [
       "9"
      ]
     },
     "execution_count": 44,
     "metadata": {},
     "output_type": "execute_result"
    }
   ],
   "source": [
    "max(list1)"
   ]
  },
  {
   "cell_type": "code",
   "execution_count": 45,
   "id": "add063b3",
   "metadata": {},
   "outputs": [
    {
     "data": {
      "text/plain": [
       "1"
      ]
     },
     "execution_count": 45,
     "metadata": {},
     "output_type": "execute_result"
    }
   ],
   "source": [
    "min(list1)"
   ]
  },
  {
   "cell_type": "code",
   "execution_count": 46,
   "id": "0a940e7e",
   "metadata": {},
   "outputs": [
    {
     "data": {
      "text/plain": [
       "16"
      ]
     },
     "execution_count": 46,
     "metadata": {},
     "output_type": "execute_result"
    }
   ],
   "source": [
    "sum(list1)"
   ]
  },
  {
   "cell_type": "code",
   "execution_count": 47,
   "id": "cd154a99",
   "metadata": {},
   "outputs": [
    {
     "data": {
      "text/plain": [
       "[1, 2, 4, 9]"
      ]
     },
     "execution_count": 47,
     "metadata": {},
     "output_type": "execute_result"
    }
   ],
   "source": [
    "sorted(list1)"
   ]
  },
  {
   "cell_type": "code",
   "execution_count": 65,
   "id": "70bf9528",
   "metadata": {},
   "outputs": [],
   "source": [
    "list1=[\"siva\",'',\"prathish\",\"python\"]\n"
   ]
  },
  {
   "cell_type": "code",
   "execution_count": 66,
   "id": "6d3132bc",
   "metadata": {},
   "outputs": [],
   "source": [
    "res =list(filter(None, list1))"
   ]
  },
  {
   "cell_type": "code",
   "execution_count": 67,
   "id": "cab2699d",
   "metadata": {},
   "outputs": [
    {
     "data": {
      "text/plain": [
       "['siva', 'prathish', 'python']"
      ]
     },
     "execution_count": 67,
     "metadata": {},
     "output_type": "execute_result"
    }
   ],
   "source": [
    "res"
   ]
  },
  {
   "cell_type": "code",
   "execution_count": 68,
   "id": "fe3854ae",
   "metadata": {},
   "outputs": [
    {
     "data": {
      "text/plain": [
       "2"
      ]
     },
     "execution_count": 68,
     "metadata": {},
     "output_type": "execute_result"
    }
   ],
   "source": [
    "list1=[100,200,300,200,300,100]\n",
    "list1.count(300)"
   ]
  },
  {
   "cell_type": "code",
   "execution_count": 69,
   "id": "760019b6",
   "metadata": {},
   "outputs": [],
   "source": [
    "list1[4]=1000"
   ]
  },
  {
   "cell_type": "code",
   "execution_count": 70,
   "id": "f8cd8244",
   "metadata": {},
   "outputs": [
    {
     "data": {
      "text/plain": [
       "[100, 200, 300, 200, 1000, 100]"
      ]
     },
     "execution_count": 70,
     "metadata": {},
     "output_type": "execute_result"
    }
   ],
   "source": [
    "list1"
   ]
  },
  {
   "cell_type": "code",
   "execution_count": 81,
   "id": "034fd161",
   "metadata": {},
   "outputs": [],
   "source": [
    "list1[2:4]=[1,2,3]"
   ]
  },
  {
   "cell_type": "code",
   "execution_count": 82,
   "id": "55705c42",
   "metadata": {},
   "outputs": [
    {
     "data": {
      "text/plain": [
       "[100, 200, 1, 2, 3, 3, 3, 4, 3, 4, 100]"
      ]
     },
     "execution_count": 82,
     "metadata": {},
     "output_type": "execute_result"
    }
   ],
   "source": [
    "list1"
   ]
  },
  {
   "cell_type": "code",
   "execution_count": 83,
   "id": "ff555dfb",
   "metadata": {},
   "outputs": [
    {
     "name": "stdout",
     "output_type": "stream",
     "text": [
      "enter ind5\n"
     ]
    }
   ],
   "source": [
    "list1=[100,200,300,400,1000,120,320,240,100]\n",
    "ind=int(input(\"enter ind\"))\n",
    "list1[ind]=22"
   ]
  },
  {
   "cell_type": "code",
   "execution_count": 84,
   "id": "c4fa0b09",
   "metadata": {},
   "outputs": [
    {
     "data": {
      "text/plain": [
       "[100, 200, 300, 400, 1000, 22, 320, 240, 100]"
      ]
     },
     "execution_count": 84,
     "metadata": {},
     "output_type": "execute_result"
    }
   ],
   "source": [
    "list1"
   ]
  },
  {
   "cell_type": "code",
   "execution_count": 97,
   "id": "b6ed46aa",
   "metadata": {},
   "outputs": [],
   "source": [
    "a=[5,7,8,6,4]\n",
    "a.insert(1,2)"
   ]
  },
  {
   "cell_type": "code",
   "execution_count": 98,
   "id": "3e0411b5",
   "metadata": {},
   "outputs": [
    {
     "data": {
      "text/plain": [
       "[5, 2, 7, 8, 6, 4]"
      ]
     },
     "execution_count": 98,
     "metadata": {},
     "output_type": "execute_result"
    }
   ],
   "source": [
    "a"
   ]
  },
  {
   "cell_type": "code",
   "execution_count": 99,
   "id": "61e865ae",
   "metadata": {},
   "outputs": [],
   "source": [
    "a.reverse()"
   ]
  },
  {
   "cell_type": "code",
   "execution_count": 100,
   "id": "92906a24",
   "metadata": {},
   "outputs": [
    {
     "data": {
      "text/plain": [
       "[4, 6, 8, 7, 2, 5]"
      ]
     },
     "execution_count": 100,
     "metadata": {},
     "output_type": "execute_result"
    }
   ],
   "source": [
    "a"
   ]
  },
  {
   "cell_type": "code",
   "execution_count": 102,
   "id": "a4a2244e",
   "metadata": {},
   "outputs": [
    {
     "data": {
      "text/plain": [
       "[2, 4, 5, 6, 7, 8]"
      ]
     },
     "execution_count": 102,
     "metadata": {},
     "output_type": "execute_result"
    }
   ],
   "source": [
    "sorted(a)"
   ]
  },
  {
   "cell_type": "code",
   "execution_count": 103,
   "id": "063bad1d",
   "metadata": {},
   "outputs": [
    {
     "name": "stdout",
     "output_type": "stream",
     "text": [
      "[100, 200, 300, 400, 1000, 120, 320, 240, 100, 255]\n"
     ]
    }
   ],
   "source": [
    "list1=[100,200,300,400,1000,120,320,240,100]\n",
    "list1.append(255)\n",
    "print(list1)"
   ]
  },
  {
   "cell_type": "code",
   "execution_count": 107,
   "id": "03503dd2",
   "metadata": {},
   "outputs": [
    {
     "name": "stdout",
     "output_type": "stream",
     "text": [
      "enter no.element3\n",
      "0\n",
      "enter number4\n",
      "1\n",
      "enter number5\n",
      "2\n",
      "enter number9\n",
      "['4', '5', '9']\n"
     ]
    }
   ],
   "source": [
    "l=[]\n",
    "count=int(input('enter no.element'))\n",
    "for i in range(count):\n",
    "    print(i)\n",
    "    l.append(input(\"enter number\"))\n",
    "print(l)"
   ]
  },
  {
   "cell_type": "raw",
   "id": "b016b0c8",
   "metadata": {},
   "source": [
    "write a program that create list and then two list odd list and even list\n",
    "that has all odd and even values in the list respectively"
   ]
  },
  {
   "cell_type": "code",
   "execution_count": 112,
   "id": "ddf8d422",
   "metadata": {},
   "outputs": [
    {
     "name": "stdout",
     "output_type": "stream",
     "text": [
      "enter no.element3\n",
      "enter number4\n",
      "enter number5\n",
      "enter number6\n",
      "[4, 5, 6]\n",
      "[5]\n",
      "[4, 6]\n"
     ]
    }
   ],
   "source": [
    "l=[]\n",
    "count=int(input('enter no.element'))\n",
    "for i in range(count):\n",
    "    l.append(int(input(\"enter number\")))\n",
    "print(l)\n",
    "odd=[]\n",
    "even=[]\n",
    "for i in range(len(l)):\n",
    "    if(l[i]%2==0):\n",
    "        even.append(l[i])\n",
    "    else:\n",
    "        odd.append(l[i])\n",
    "print(odd)        \n",
    "print(even)"
   ]
  },
  {
   "cell_type": "code",
   "execution_count": 113,
   "id": "c17fc418",
   "metadata": {},
   "outputs": [
    {
     "name": "stdout",
     "output_type": "stream",
     "text": [
      "enter no.element4\n",
      "enter number-9\n",
      "enter number-8\n",
      "enter number3\n",
      "enter number5\n",
      "[-9, -8, 3, 5]\n",
      "[3, 5]\n",
      "[-9, -8]\n"
     ]
    }
   ],
   "source": [
    "l=[]\n",
    "count=int(input('enter no.element'))\n",
    "for i in range(count):\n",
    "    l.append(int(input(\"enter number\")))\n",
    "print(l)\n",
    "pos=[]\n",
    "neg=[]\n",
    "for i in range(len(l)):\n",
    "    if(l[i]>0):\n",
    "        pos.append(l[i])\n",
    "    else:\n",
    "        neg.append(l[i])\n",
    "print(pos)        \n",
    "print(neg)"
   ]
  },
  {
   "cell_type": "code",
   "execution_count": 114,
   "id": "24c20800",
   "metadata": {},
   "outputs": [
    {
     "name": "stdout",
     "output_type": "stream",
     "text": [
      "enter no.element5\n",
      "enter number55\n",
      "enter number45\n",
      "enter number44\n",
      "enter number77\n",
      "enter number10\n",
      "[55, 45, 44, 77, 10]\n",
      "[55, 45, 10]\n"
     ]
    }
   ],
   "source": [
    "l=[]\n",
    "count=int(input('enter no.element'))\n",
    "for i in range(count):\n",
    "    l.append(int(input(\"enter number\")))\n",
    "print(l)\n",
    "mul5=[]\n",
    "\n",
    "for i in range(len(l)):\n",
    "    if(l[i]%5==0):\n",
    "        mul5.append(l[i])\n",
    "    \n",
    "    \n",
    "print(mul"
   ]
  },
  {
   "cell_type": "raw",
   "id": "30c46607",
   "metadata": {},
   "source": [
    "search the element from the list input from user:what number they want to search\n",
    "    "
   ]
  },
  {
   "cell_type": "raw",
   "id": "05558044",
   "metadata": {},
   "source": [
    "write a program that forms a list of first character of every word in another list"
   ]
  },
  {
   "cell_type": "code",
   "execution_count": 122,
   "id": "03289d25",
   "metadata": {},
   "outputs": [
    {
     "name": "stdout",
     "output_type": "stream",
     "text": [
      "[ p ] [ c ] [ j ] "
     ]
    }
   ],
   "source": [
    "L1=['pytthon','c','java']\n",
    "for string in L1:\n",
    "    print ('[',string[0],']',end=\" \")\n",
    "\n"
   ]
  },
  {
   "cell_type": "code",
   "execution_count": 1,
   "id": "640fba47",
   "metadata": {},
   "outputs": [
    {
     "name": "stdout",
     "output_type": "stream",
     "text": [
      "enter the search element;pyth\n",
      "pyth is preseented in the index of  1\n"
     ]
    }
   ],
   "source": [
    "list1=[\"c\",\"pyth\"]\n",
    "search=input(\"enter the search element;\")\n",
    "for i in range(len(list1)):\n",
    "    if(list1[i]==search):\n",
    "        print(search,\"is preseented in the index of \",i)"
   ]
  },
  {
   "cell_type": "code",
   "execution_count": 127,
   "id": "322da5c7",
   "metadata": {},
   "outputs": [
    {
     "name": "stdout",
     "output_type": "stream",
     "text": [
      "['p', 'C', 'j']\n"
     ]
    }
   ],
   "source": [
    "k=[\"python\",\"C\",\"java\"]\n",
    "list=[k[i][0] for i in range(len(k))]\n",
    "print(list)"
   ]
  },
  {
   "cell_type": "code",
   "execution_count": 128,
   "id": "6f2c9a01",
   "metadata": {},
   "outputs": [
    {
     "data": {
      "text/plain": [
       "['p', 'C', 'j']"
      ]
     },
     "execution_count": 128,
     "metadata": {},
     "output_type": "execute_result"
    }
   ],
   "source": [
    "[k[0][0],k[1][0],k[2][0]]"
   ]
  },
  {
   "cell_type": "code",
   "execution_count": 3,
   "id": "37629de7",
   "metadata": {},
   "outputs": [
    {
     "ename": "NameError",
     "evalue": "name 'k' is not defined",
     "output_type": "error",
     "traceback": [
      "\u001b[1;31m---------------------------------------------------------------------------\u001b[0m",
      "\u001b[1;31mNameError\u001b[0m                                 Traceback (most recent call last)",
      "\u001b[1;32m~\\AppData\\Local\\Temp/ipykernel_2428/2970047955.py\u001b[0m in \u001b[0;36m<module>\u001b[1;34m\u001b[0m\n\u001b[1;32m----> 1\u001b[1;33m \u001b[0ma\u001b[0m\u001b[1;33m=\u001b[0m\u001b[1;33m(\u001b[0m\u001b[0mlen\u001b[0m\u001b[1;33m(\u001b[0m\u001b[0mk\u001b[0m\u001b[1;33m)\u001b[0m\u001b[1;33m)\u001b[0m\u001b[1;33m\u001b[0m\u001b[1;33m\u001b[0m\u001b[0m\n\u001b[0m",
      "\u001b[1;31mNameError\u001b[0m: name 'k' is not defined"
     ]
    }
   ],
   "source": [
    "a=(len(k))"
   ]
  },
  {
   "cell_type": "code",
   "execution_count": null,
   "id": "af436287",
   "metadata": {},
   "outputs": [],
   "source": []
  }
 ],
 "metadata": {
  "kernelspec": {
   "display_name": "Python 3 (ipykernel)",
   "language": "python",
   "name": "python3"
  },
  "language_info": {
   "codemirror_mode": {
    "name": "ipython",
    "version": 3
   },
   "file_extension": ".py",
   "mimetype": "text/x-python",
   "name": "python",
   "nbconvert_exporter": "python",
   "pygments_lexer": "ipython3",
   "version": "3.9.7"
  }
 },
 "nbformat": 4,
 "nbformat_minor": 5
}
