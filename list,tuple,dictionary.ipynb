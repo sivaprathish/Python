{
 "cells": [
  {
   "cell_type": "markdown",
   "id": "53d50d2c",
   "metadata": {},
   "source": [
    "# list"
   ]
  },
  {
   "cell_type": "code",
   "execution_count": 2,
   "id": "f74e39ba",
   "metadata": {},
   "outputs": [
    {
     "name": "stdout",
     "output_type": "stream",
     "text": [
      "['apple', 'banana', 'cherry']\n"
     ]
    }
   ],
   "source": [
    "x = [\"apple\", \"banana\", \"cherry\"]\n",
    "print(x)"
   ]
  },
  {
   "cell_type": "code",
   "execution_count": 3,
   "id": "ded3cee8",
   "metadata": {},
   "outputs": [
    {
     "name": "stdout",
     "output_type": "stream",
     "text": [
      "[1, 2, 3, 4, 5, 5]\n"
     ]
    }
   ],
   "source": [
    "#tuple into list\n",
    "a=list((1,2,3,4,5,5))\n",
    "print(a)"
   ]
  },
  {
   "cell_type": "code",
   "execution_count": 5,
   "id": "0ccdb59f",
   "metadata": {},
   "outputs": [
    {
     "data": {
      "text/plain": [
       "[2, 3, 4, 5, 6, 7, 8, 9, 10]"
      ]
     },
     "execution_count": 5,
     "metadata": {},
     "output_type": "execute_result"
    }
   ],
   "source": [
    "#list range\n",
    "r=list(range(2,11))\n",
    "r"
   ]
  },
  {
   "cell_type": "code",
   "execution_count": 15,
   "id": "c351ae48",
   "metadata": {},
   "outputs": [
    {
     "name": "stdout",
     "output_type": "stream",
     "text": [
      "['a', 'a', ['a', 'd', ['e', 'r'], 'f'], 'c']\n",
      "c\n",
      "r\n"
     ]
    }
   ],
   "source": [
    "long_list=[\"a\",'a',['a','d',['e','r'],'f'],'c']\n",
    "print(long_list)\n",
    "print(long_list[-1])\n",
    "print(long_list[2][2][1])"
   ]
  },
  {
   "cell_type": "code",
   "execution_count": 17,
   "id": "286938b1",
   "metadata": {},
   "outputs": [
    {
     "name": "stdout",
     "output_type": "stream",
     "text": [
      "['a', 'a', ['a', 'd', ['e', 'r'], 'f'], 'c', ('a', 'b', 'y'), ('a', 'b', 'y')]\n"
     ]
    }
   ],
   "source": [
    "#append\n",
    "d=('a','b','y')\n",
    "long_list.append(d)\n",
    "print(long_list)"
   ]
  },
  {
   "cell_type": "code",
   "execution_count": 27,
   "id": "0be82a44",
   "metadata": {},
   "outputs": [
    {
     "name": "stdout",
     "output_type": "stream",
     "text": [
      "['a', 'a', ['a', 'd', ['e', 'r'], 'f', 'j'], 'c']\n"
     ]
    }
   ],
   "source": [
    "long_list=[\"a\",'a',['a','d',['e','r'],'f'],'c']\n",
    "d=['a','b','y']\n",
    "long_list[2].append('j')\n",
    "print(long_list)"
   ]
  },
  {
   "cell_type": "code",
   "execution_count": 28,
   "id": "d00481f6",
   "metadata": {},
   "outputs": [
    {
     "name": "stdout",
     "output_type": "stream",
     "text": [
      "['a', 'a', ['a', 'b', 'y'], ['a', 'd', ['e', 'r'], 'f', 'j'], 'c']\n"
     ]
    }
   ],
   "source": [
    "#insert\n",
    "d=['a','b','y']\n",
    "long_list.insert(2,d)\n",
    "print(long_list)"
   ]
  },
  {
   "cell_type": "code",
   "execution_count": 30,
   "id": "b844f717",
   "metadata": {},
   "outputs": [
    {
     "name": "stdout",
     "output_type": "stream",
     "text": [
      "['a', 'a', ['a', 'b', 'xxxx', 'xxxx', 'y'], ['a', 'd', ['e', 'r'], 'f', 'j'], 'c']\n",
      "['a', 'a', ['a', 'b', 'xxxx', 'xxxx', 'y'], ['a', 'd', ['e', 'xxxx', 'r'], 'f', 'j'], 'c']\n"
     ]
    }
   ],
   "source": [
    "long_list[2].insert(2,\"xxxx\")\n",
    "print(long_list)\n",
    "long_list[3][2].insert(1,\"xxxx\")\n",
    "print(long_list)"
   ]
  },
  {
   "cell_type": "code",
   "execution_count": 37,
   "id": "7da0d957",
   "metadata": {},
   "outputs": [
    {
     "name": "stdout",
     "output_type": "stream",
     "text": [
      "['a', 'a', ['a', 'b', 'xxxx', 'xxxx', 'y'], ['a', 'd', ['e', 'xxxx', 'r'], 'f', 'j'], 'c', 'q', 'w', 'e', 'q', 'w', 'e', 'q', 'w', 'e']\n"
     ]
    }
   ],
   "source": [
    "#Extending\n",
    "long_list.extend(['q','w','e'])\n",
    "print(long_list)"
   ]
  },
  {
   "cell_type": "markdown",
   "id": "6258ce26",
   "metadata": {},
   "source": [
    "# Tuple\n"
   ]
  },
  {
   "cell_type": "code",
   "execution_count": null,
   "id": "5c8295ad",
   "metadata": {},
   "outputs": [],
   "source": []
  }
 ],
 "metadata": {
  "kernelspec": {
   "display_name": "Python 3 (ipykernel)",
   "language": "python",
   "name": "python3"
  },
  "language_info": {
   "codemirror_mode": {
    "name": "ipython",
    "version": 3
   },
   "file_extension": ".py",
   "mimetype": "text/x-python",
   "name": "python",
   "nbconvert_exporter": "python",
   "pygments_lexer": "ipython3",
   "version": "3.9.7"
  }
 },
 "nbformat": 4,
 "nbformat_minor": 5
}
