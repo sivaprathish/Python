{
 "cells": [
  {
   "cell_type": "markdown",
   "id": "53d50d2c",
   "metadata": {},
   "source": [
    "# list"
   ]
  },
  {
   "cell_type": "code",
   "execution_count": 2,
   "id": "f74e39ba",
   "metadata": {},
   "outputs": [
    {
     "name": "stdout",
     "output_type": "stream",
     "text": [
      "['apple', 'banana', 'cherry']\n"
     ]
    }
   ],
   "source": [
    "x = [\"apple\", \"banana\", \"cherry\"]\n",
    "print(x)"
   ]
  },
  {
   "cell_type": "code",
   "execution_count": 3,
   "id": "ded3cee8",
   "metadata": {},
   "outputs": [
    {
     "name": "stdout",
     "output_type": "stream",
     "text": [
      "[1, 2, 3, 4, 5, 5]\n"
     ]
    }
   ],
   "source": [
    "#tuple into list\n",
    "a=list((1,2,3,4,5,5))\n",
    "print(a)"
   ]
  },
  {
   "cell_type": "code",
   "execution_count": 5,
   "id": "0ccdb59f",
   "metadata": {},
   "outputs": [
    {
     "data": {
      "text/plain": [
       "[2, 3, 4, 5, 6, 7, 8, 9, 10]"
      ]
     },
     "execution_count": 5,
     "metadata": {},
     "output_type": "execute_result"
    }
   ],
   "source": [
    "#list range\n",
    "r=list(range(2,11))\n",
    "r"
   ]
  },
  {
   "cell_type": "code",
   "execution_count": 15,
   "id": "c351ae48",
   "metadata": {},
   "outputs": [
    {
     "name": "stdout",
     "output_type": "stream",
     "text": [
      "['a', 'a', ['a', 'd', ['e', 'r'], 'f'], 'c']\n",
      "c\n",
      "r\n"
     ]
    }
   ],
   "source": [
    "long_list=[\"a\",'a',['a','d',['e','r'],'f'],'c']\n",
    "print(long_list)\n",
    "print(long_list[-1])\n",
    "print(long_list[2][2][1])"
   ]
  },
  {
   "cell_type": "code",
   "execution_count": 17,
   "id": "286938b1",
   "metadata": {},
   "outputs": [
    {
     "name": "stdout",
     "output_type": "stream",
     "text": [
      "['a', 'a', ['a', 'd', ['e', 'r'], 'f'], 'c', ('a', 'b', 'y'), ('a', 'b', 'y')]\n"
     ]
    }
   ],
   "source": [
    "#append\n",
    "d=('a','b','y')\n",
    "long_list.append(d)\n",
    "print(long_list)"
   ]
  },
  {
   "cell_type": "code",
   "execution_count": 27,
   "id": "0be82a44",
   "metadata": {},
   "outputs": [
    {
     "name": "stdout",
     "output_type": "stream",
     "text": [
      "['a', 'a', ['a', 'd', ['e', 'r'], 'f', 'j'], 'c']\n"
     ]
    }
   ],
   "source": [
    "long_list=[\"a\",'a',['a','d',['e','r'],'f'],'c']\n",
    "d=['a','b','y']\n",
    "long_list[2].append('j')\n",
    "print(long_list)"
   ]
  },
  {
   "cell_type": "code",
   "execution_count": 28,
   "id": "d00481f6",
   "metadata": {},
   "outputs": [
    {
     "name": "stdout",
     "output_type": "stream",
     "text": [
      "['a', 'a', ['a', 'b', 'y'], ['a', 'd', ['e', 'r'], 'f', 'j'], 'c']\n"
     ]
    }
   ],
   "source": [
    "#insert\n",
    "d=['a','b','y']\n",
    "long_list.insert(2,d)\n",
    "print(long_list)"
   ]
  },
  {
   "cell_type": "code",
   "execution_count": 30,
   "id": "b844f717",
   "metadata": {},
   "outputs": [
    {
     "name": "stdout",
     "output_type": "stream",
     "text": [
      "['a', 'a', ['a', 'b', 'xxxx', 'xxxx', 'y'], ['a', 'd', ['e', 'r'], 'f', 'j'], 'c']\n",
      "['a', 'a', ['a', 'b', 'xxxx', 'xxxx', 'y'], ['a', 'd', ['e', 'xxxx', 'r'], 'f', 'j'], 'c']\n"
     ]
    }
   ],
   "source": [
    "long_list[2].insert(2,\"xxxx\")\n",
    "print(long_list)\n",
    "long_list[3][2].insert(1,\"xxxx\")\n",
    "print(long_list)"
   ]
  },
  {
   "cell_type": "code",
   "execution_count": 37,
   "id": "7da0d957",
   "metadata": {},
   "outputs": [
    {
     "name": "stdout",
     "output_type": "stream",
     "text": [
      "['a', 'a', ['a', 'b', 'xxxx', 'xxxx', 'y'], ['a', 'd', ['e', 'xxxx', 'r'], 'f', 'j'], 'c', 'q', 'w', 'e', 'q', 'w', 'e', 'q', 'w', 'e']\n"
     ]
    }
   ],
   "source": [
    "#Extending\n",
    "long_list.extend(['q','w','e'])\n",
    "print(long_list)"
   ]
  },
  {
   "cell_type": "markdown",
   "id": "6258ce26",
   "metadata": {},
   "source": [
    "# slicing a list\n"
   ]
  },
  {
   "cell_type": "code",
   "execution_count": 11,
   "id": "5c8295ad",
   "metadata": {},
   "outputs": [
    {
     "name": "stdout",
     "output_type": "stream",
     "text": [
      "['c', 'd', 'e']\n",
      "['a', 'b']\n",
      "['b', 'c', 'd', 'e']\n",
      "['f', 'd', 'b']\n",
      "['b', 'd']\n"
     ]
    }
   ],
   "source": [
    "l=['a','b','c','d','e','f']\n",
    "print(l[2:5])\n",
    "print(l[0:2])\n",
    "print(l[1:-1])\n",
    "print(l[6:0:-2])\n",
    "print(l[1:-2:2])"
   ]
  },
  {
   "cell_type": "code",
   "execution_count": 12,
   "id": "2e08112c",
   "metadata": {},
   "outputs": [
    {
     "name": "stdout",
     "output_type": "stream",
     "text": [
      "['guva', 'grape', 'plum']\n"
     ]
    }
   ],
   "source": [
    "c=['apple','grape','plum']\n",
    "c[0]='guva'\n",
    "print(c)"
   ]
  },
  {
   "cell_type": "code",
   "execution_count": 14,
   "id": "c9dae1c3",
   "metadata": {},
   "outputs": [
    {
     "name": "stdout",
     "output_type": "stream",
     "text": [
      "['apple', 'plum']\n"
     ]
    },
    {
     "data": {
      "text/plain": [
       "'grape'"
      ]
     },
     "execution_count": 14,
     "metadata": {},
     "output_type": "execute_result"
    }
   ],
   "source": [
    "#pop   can be saved the delete value\n",
    "c=['apple','grape','plum']\n",
    "x=c.pop(1)\n",
    "print(c)\n",
    "x"
   ]
  },
  {
   "cell_type": "code",
   "execution_count": 18,
   "id": "ac6b413b",
   "metadata": {},
   "outputs": [
    {
     "data": {
      "text/plain": [
       "['apple', 'plum']"
      ]
     },
     "execution_count": 18,
     "metadata": {},
     "output_type": "execute_result"
    }
   ],
   "source": [
    "#del    can't save\n",
    "c=['apple','grape','plum']\n",
    "del c[1]\n",
    "c"
   ]
  },
  {
   "cell_type": "code",
   "execution_count": 19,
   "id": "9c13a13a",
   "metadata": {},
   "outputs": [
    {
     "name": "stdout",
     "output_type": "stream",
     "text": [
      "['apple', 'plum']\n"
     ]
    }
   ],
   "source": [
    "#Remove by value\n",
    "c=['apple','grape','plum']\n",
    "c.remove(\"grape\")\n",
    "print(c)"
   ]
  },
  {
   "cell_type": "code",
   "execution_count": 20,
   "id": "be8dd080",
   "metadata": {},
   "outputs": [
    {
     "name": "stdout",
     "output_type": "stream",
     "text": [
      "[]\n"
     ]
    }
   ],
   "source": [
    "#clear method empties the list. The list still remains, but it has no content.\n",
    "c=['apple','grape','plum']\n",
    "c.clear()\n",
    "print(c)"
   ]
  },
  {
   "cell_type": "code",
   "execution_count": 21,
   "id": "54d99a2f",
   "metadata": {},
   "outputs": [
    {
     "name": "stdout",
     "output_type": "stream",
     "text": [
      "apple\n",
      "grape\n",
      "plum\n"
     ]
    }
   ],
   "source": [
    "#loop\n",
    "c=['apple','grape','plum']\n",
    "for item in c:\n",
    "    print(item)"
   ]
  },
  {
   "cell_type": "code",
   "execution_count": 24,
   "id": "9b3ff9fa",
   "metadata": {},
   "outputs": [
    {
     "name": "stdout",
     "output_type": "stream",
     "text": [
      "apple\n",
      "banana\n",
      "cherry\n"
     ]
    },
    {
     "data": {
      "text/plain": [
       "[None, None, None]"
      ]
     },
     "execution_count": 24,
     "metadata": {},
     "output_type": "execute_result"
    }
   ],
   "source": [
    "thislist = [\"apple\", \"banana\", \"cherry\"]\n",
    "[print(x) for x in thislist]"
   ]
  },
  {
   "cell_type": "code",
   "execution_count": 25,
   "id": "24dbed9e",
   "metadata": {},
   "outputs": [
    {
     "name": "stdout",
     "output_type": "stream",
     "text": [
      "apple\n",
      "banana\n",
      "cherry\n"
     ]
    }
   ],
   "source": [
    "thislist = [\"apple\", \"banana\", \"cherry\"]\n",
    "for i in range(len(thislist)):\n",
    "  print(thislist[i])"
   ]
  },
  {
   "cell_type": "code",
   "execution_count": 30,
   "id": "f1560c2f",
   "metadata": {},
   "outputs": [
    {
     "name": "stdout",
     "output_type": "stream",
     "text": [
      "[3, 6, 9, 12, 15, 18]\n"
     ]
    }
   ],
   "source": [
    "thislist = [1,2,3,4,5,6]\n",
    "for i in range(len(thislist)):\n",
    "    thislist[i]=thislist[i]*3\n",
    "print(thislist)"
   ]
  },
  {
   "cell_type": "markdown",
   "id": "2aaa95c2",
   "metadata": {},
   "source": [
    "# Tuple"
   ]
  },
  {
   "cell_type": "code",
   "execution_count": 31,
   "id": "93e083c1",
   "metadata": {},
   "outputs": [
    {
     "name": "stdout",
     "output_type": "stream",
     "text": [
      "(1, 'ess', True, 1.23)\n"
     ]
    }
   ],
   "source": [
    "#order,aceess by index,immutable,any type value\n",
    "T=(1,'ess',True,1.23)\n",
    "print(T)"
   ]
  },
  {
   "cell_type": "code",
   "execution_count": 32,
   "id": "e39b2705",
   "metadata": {},
   "outputs": [
    {
     "name": "stdout",
     "output_type": "stream",
     "text": [
      "[1, 2, 3, 4, 5, 6]\n"
     ]
    }
   ],
   "source": [
    "#convert tuple to list\n",
    "l=list((1,2,3,4,5,6))\n",
    "print(l)"
   ]
  },
  {
   "cell_type": "code",
   "execution_count": 35,
   "id": "f5ac51cf",
   "metadata": {},
   "outputs": [
    {
     "name": "stdout",
     "output_type": "stream",
     "text": [
      "(1, 2, 3)\n"
     ]
    }
   ],
   "source": [
    "#liist to tuple\n",
    "l=tuple([1,2,3])\n",
    "print(l)"
   ]
  },
  {
   "cell_type": "code",
   "execution_count": 36,
   "id": "c5ca965b",
   "metadata": {},
   "outputs": [
    {
     "name": "stdout",
     "output_type": "stream",
     "text": [
      "('a', 'b', 'c')\n"
     ]
    }
   ],
   "source": [
    "#string to  tuple\n",
    "l=tuple('abc')\n",
    "print(l)"
   ]
  },
  {
   "cell_type": "code",
   "execution_count": 38,
   "id": "21429696",
   "metadata": {},
   "outputs": [
    {
     "name": "stdout",
     "output_type": "stream",
     "text": [
      "apple\n",
      "banana\n",
      "cherry\n"
     ]
    }
   ],
   "source": [
    "#unpack tuple\n",
    "fruits = (\"apple\", \"banana\", \"cherry\")\n",
    "\n",
    "(g, y, r) = fruits\n",
    "\n",
    "print(g)\n",
    "print(y)\n",
    "print(r)"
   ]
  },
  {
   "cell_type": "code",
   "execution_count": 39,
   "id": "b28cf053",
   "metadata": {},
   "outputs": [
    {
     "data": {
      "text/plain": [
       "(1, 2, 3, [4000000, 5])"
      ]
     },
     "execution_count": 39,
     "metadata": {},
     "output_type": "execute_result"
    }
   ],
   "source": [
    "#list inside tuple\n",
    "t=(1,2,3,[4,5])\n",
    "t[3][0]=4000000\n",
    "t"
   ]
  },
  {
   "cell_type": "markdown",
   "id": "4065a1ef",
   "metadata": {},
   "source": [
    "# Dictionary"
   ]
  },
  {
   "cell_type": "code",
   "execution_count": 43,
   "id": "725018fd",
   "metadata": {},
   "outputs": [
    {
     "name": "stdout",
     "output_type": "stream",
     "text": [
      "{'name': 'siva', 'age': 18, 'country': 'India'}\n"
     ]
    }
   ],
   "source": [
    "# with key value\n",
    "thisdict = dict(name = \"siva\", age = 18, country = \"India\")\n",
    "print(thisdict)\n"
   ]
  },
  {
   "cell_type": "code",
   "execution_count": 44,
   "id": "32e1b895",
   "metadata": {},
   "outputs": [
    {
     "name": "stdout",
     "output_type": "stream",
     "text": [
      "{'name': 'siva', 'age': 18, 'country': 'India'}\n"
     ]
    }
   ],
   "source": [
    "d = {\n",
    "  \"brand\": \"sord\",\n",
    "  \"model\": \"kustang\",\n",
    "  \"year\": 3964\n",
    "}\n",
    "print(thisdict)"
   ]
  },
  {
   "cell_type": "code",
   "execution_count": 48,
   "id": "85cc73f3",
   "metadata": {},
   "outputs": [
    {
     "data": {
      "text/plain": [
       "'kustang'"
      ]
     },
     "execution_count": 48,
     "metadata": {},
     "output_type": "execute_result"
    }
   ],
   "source": [
    "d.get(\"model\")\n"
   ]
  },
  {
   "cell_type": "code",
   "execution_count": 49,
   "id": "cdf0f1ea",
   "metadata": {},
   "outputs": [
    {
     "data": {
      "text/plain": [
       "dict_keys(['brand', 'model', 'year'])"
      ]
     },
     "execution_count": 49,
     "metadata": {},
     "output_type": "execute_result"
    }
   ],
   "source": [
    "d.keys()"
   ]
  },
  {
   "cell_type": "code",
   "execution_count": 51,
   "id": "8e1ef25a",
   "metadata": {},
   "outputs": [
    {
     "data": {
      "text/plain": [
       "dict_values(['sord', 'kustang', 3964])"
      ]
     },
     "execution_count": 51,
     "metadata": {},
     "output_type": "execute_result"
    }
   ],
   "source": [
    "d.values()"
   ]
  },
  {
   "cell_type": "code",
   "execution_count": 65,
   "id": "09337079",
   "metadata": {},
   "outputs": [
    {
     "data": {
      "text/plain": [
       "'kustang'"
      ]
     },
     "execution_count": 65,
     "metadata": {},
     "output_type": "execute_result"
    }
   ],
   "source": [
    "d[\"model\"]"
   ]
  },
  {
   "cell_type": "code",
   "execution_count": 86,
   "id": "44dce8d4",
   "metadata": {},
   "outputs": [
    {
     "data": {
      "text/plain": [
       "[('brand', 'sord'), ('model', 'kustang'), ('year', 1900)]"
      ]
     },
     "execution_count": 86,
     "metadata": {},
     "output_type": "execute_result"
    }
   ],
   "source": [
    "list(d.items())"
   ]
  },
  {
   "cell_type": "code",
   "execution_count": 53,
   "id": "9186310c",
   "metadata": {},
   "outputs": [
    {
     "name": "stdout",
     "output_type": "stream",
     "text": [
      "{1: 'siva', 2: 'jai', 3: 'dev', 4: 'yash'}\n"
     ]
    }
   ],
   "source": [
    "#two list into dict\n",
    "Sno=[1,2,3,4]\n",
    "name=[\"siva\",\"jai\",\"dev\",\"yash\"]\n",
    "D=dict(zip(Sno,name))\n",
    "print(D)"
   ]
  },
  {
   "cell_type": "code",
   "execution_count": 57,
   "id": "f4659e72",
   "metadata": {},
   "outputs": [
    {
     "name": "stdout",
     "output_type": "stream",
     "text": [
      "{'a': 0, 'b': 0, 'c': 0}\n"
     ]
    }
   ],
   "source": [
    "keys=['a','b','c']\n",
    "defaultvalue=0\n",
    "D=dict.fromkeys(keys,defaultvalue)\n",
    "      \n",
    "print(D)   "
   ]
  },
  {
   "cell_type": "code",
   "execution_count": 66,
   "id": "4fdb60f1",
   "metadata": {},
   "outputs": [
    {
     "name": "stdout",
     "output_type": "stream",
     "text": [
      "{'brand': 'sord', 'model': 'kustang', 'year': 1900}\n"
     ]
    }
   ],
   "source": [
    "d = {\n",
    "  \"brand\": \"sord\",\n",
    "  \"model\": \"kustang\",\n",
    "  \"year\": 3964,\n",
    "    \"year\":1900\n",
    "}\n",
    "print(d)"
   ]
  },
  {
   "cell_type": "code",
   "execution_count": 63,
   "id": "95273b4c",
   "metadata": {},
   "outputs": [
    {
     "data": {
      "text/plain": [
       "{'a': [1, 2], 'b': [1, 2], 'c': [1, 2], 'd': [1, 2]}"
      ]
     },
     "execution_count": 63,
     "metadata": {},
     "output_type": "execute_result"
    }
   ],
   "source": [
    "#duplicate value\n",
    "D={'a':[1,2],'b':[1,2],'c':[1,2],'d':[1,2]}\n",
    "D"
   ]
  },
  {
   "cell_type": "code",
   "execution_count": 74,
   "id": "c1e33c2e",
   "metadata": {},
   "outputs": [
    {
     "name": "stdout",
     "output_type": "stream",
     "text": [
      "{'brand': 'suzuki', 'model': 'Mustang', 'year': 1964}\n"
     ]
    }
   ],
   "source": [
    "#add\n",
    "thisdict = {\n",
    "  \"brand\": \"Ford\",\n",
    "  \"model\": \"Mustang\",\n",
    "  \"year\": 1964\n",
    "}\n",
    "thisdict['brand']=\"suzuki\"\n",
    "print(thisdict)"
   ]
  },
  {
   "cell_type": "code",
   "execution_count": 67,
   "id": "c23b0a7a",
   "metadata": {},
   "outputs": [
    {
     "name": "stdout",
     "output_type": "stream",
     "text": [
      "{'brand': 'Ford', 'model': 'Mustang', 'year': 1964, 'color': 'red'}\n"
     ]
    }
   ],
   "source": [
    "#update\n",
    "thisdict = {\n",
    "  \"brand\": \"Ford\",\n",
    "  \"model\": \"Mustang\",\n",
    "  \"year\": 1964\n",
    "}\n",
    "thisdict[\"color\"] = \"red\"\n",
    "print(thisdict)"
   ]
  },
  {
   "cell_type": "code",
   "execution_count": 71,
   "id": "552fbd24",
   "metadata": {},
   "outputs": [
    {
     "name": "stdout",
     "output_type": "stream",
     "text": [
      "{'brand': 'Ford', 'model': 'Mustang', 'year': 1964, 'color': 'red'}\n"
     ]
    }
   ],
   "source": [
    "thisdict = {\n",
    "  \"brand\": \"Ford\",\n",
    "  \"model\": \"Mustang\",\n",
    "  \"year\": 1964\n",
    "}\n",
    "thisdict.update({\"color\": \"red\"})\n",
    "print(thisdict)"
   ]
  },
  {
   "cell_type": "code",
   "execution_count": 82,
   "id": "824ce67e",
   "metadata": {},
   "outputs": [
    {
     "ename": "SyntaxError",
     "evalue": "invalid syntax (Temp/ipykernel_15540/1930009432.py, line 7)",
     "output_type": "error",
     "traceback": [
      "\u001b[1;36m  File \u001b[1;32m\"C:\\Users\\sivap\\AppData\\Local\\Temp/ipykernel_15540/1930009432.py\"\u001b[1;36m, line \u001b[1;32m7\u001b[0m\n\u001b[1;33m    x=thisdict.pop item(\"model\")\u001b[0m\n\u001b[1;37m                   ^\u001b[0m\n\u001b[1;31mSyntaxError\u001b[0m\u001b[1;31m:\u001b[0m invalid syntax\n"
     ]
    }
   ],
   "source": [
    "#pop\n",
    "thisdict = {\n",
    "  \"brand\": \"Ford\",\n",
    "  \"model\": \"Mustang\",\n",
    "  \"year\": 1964\n",
    "}\n",
    "x=thisdict.pop(\"model\")\n",
    "print(thisdict)\n",
    "x"
   ]
  },
  {
   "cell_type": "code",
   "execution_count": 78,
   "id": "eb211964",
   "metadata": {},
   "outputs": [
    {
     "name": "stdout",
     "output_type": "stream",
     "text": [
      "{'brand': 'Ford', 'year': 1964}\n"
     ]
    }
   ],
   "source": [
    "#merge\n",
    "thisdict = {\n",
    "  \"brand\": \"Ford\",\n",
    "  \"model\": \"Mustang\",\n",
    "  \"year\": 1964\n",
    "}\n",
    "del thisdict[\"model\"]\n",
    "print(thisdict)"
   ]
  },
  {
   "cell_type": "code",
   "execution_count": 80,
   "id": "e5bb190e",
   "metadata": {},
   "outputs": [
    {
     "name": "stdout",
     "output_type": "stream",
     "text": [
      "{}\n"
     ]
    }
   ],
   "source": [
    "#clear\n",
    "thisdict = {\n",
    "  \"brand\": \"Ford\",\n",
    "  \"model\": \"Mustang\",\n",
    "  \"year\": 1964\n",
    "}\n",
    "thisdict.clear()\n",
    "print(thisdict)"
   ]
  },
  {
   "cell_type": "code",
   "execution_count": 84,
   "id": "7d5bd963",
   "metadata": {},
   "outputs": [
    {
     "name": "stdout",
     "output_type": "stream",
     "text": [
      "{'brand': 'Ford', 'model': 'Mustang'}\n"
     ]
    }
   ],
   "source": [
    "#popitem\n",
    "thisdict = {\n",
    "  \"brand\": \"Ford\",\n",
    "  \"model\": \"Mustang\",\n",
    "  \"year\": 1964\n",
    "}\n",
    "thisdict.popitem()\n",
    "print(thisdict)"
   ]
  },
  {
   "cell_type": "code",
   "execution_count": 88,
   "id": "24b5f7fa",
   "metadata": {},
   "outputs": [
    {
     "name": "stdout",
     "output_type": "stream",
     "text": [
      "brand\n",
      "model\n"
     ]
    }
   ],
   "source": [
    "for x in thisdict:\n",
    "  print(x)"
   ]
  },
  {
   "cell_type": "code",
   "execution_count": 87,
   "id": "ff13a555",
   "metadata": {},
   "outputs": [
    {
     "name": "stdout",
     "output_type": "stream",
     "text": [
      "Ford\n",
      "Mustang\n"
     ]
    }
   ],
   "source": [
    "for x in thisdict:\n",
    "  print(thisdict[x])"
   ]
  },
  {
   "cell_type": "code",
   "execution_count": 89,
   "id": "75828edf",
   "metadata": {},
   "outputs": [
    {
     "name": "stdout",
     "output_type": "stream",
     "text": [
      "True\n"
     ]
    }
   ],
   "source": [
    "print(\"model\"in thisdict)"
   ]
  },
  {
   "cell_type": "code",
   "execution_count": 90,
   "id": "7cea6f06",
   "metadata": {},
   "outputs": [
    {
     "name": "stdout",
     "output_type": "stream",
     "text": [
      "False\n"
     ]
    }
   ],
   "source": [
    "print(\"mood\"in thisdict)"
   ]
  },
  {
   "cell_type": "code",
   "execution_count": null,
   "id": "8739accc",
   "metadata": {},
   "outputs": [],
   "source": [
    "ko0l0p-l...................................p"
   ]
  }
 ],
 "metadata": {
  "kernelspec": {
   "display_name": "Python 3 (ipykernel)",
   "language": "python",
   "name": "python3"
  },
  "language_info": {
   "codemirror_mode": {
    "name": "ipython",
    "version": 3
   },
   "file_extension": ".py",
   "mimetype": "text/x-python",
   "name": "python",
   "nbconvert_exporter": "python",
   "pygments_lexer": "ipython3",
   "version": "3.9.7"
  }
 },
 "nbformat": 4,
 "nbformat_minor": 5
}
