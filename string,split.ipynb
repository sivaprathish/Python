{
 "cells": [
  {
   "cell_type": "markdown",
   "id": "b0ba577f",
   "metadata": {},
   "source": [
    "# data analytics"
   ]
  },
  {
   "cell_type": "markdown",
   "id": "eb2e0bf2",
   "metadata": {},
   "source": [
    "#silicing operation\n",
    "#slicing: var[start:stop:step]"
   ]
  },
  {
   "cell_type": "code",
   "execution_count": 5,
   "id": "66454b7d",
   "metadata": {},
   "outputs": [
    {
     "name": "stdout",
     "output_type": "stream",
     "text": [
      "sirmcada\n"
     ]
    }
   ],
   "source": [
    "clg_name=\"sri ramachandra\"\n",
    "print(clg_name[::2])"
   ]
  },
  {
   "cell_type": "code",
   "execution_count": 6,
   "id": "23a47415",
   "metadata": {},
   "outputs": [
    {
     "name": "stdout",
     "output_type": "stream",
     "text": [
      "srcd\n"
     ]
    }
   ],
   "source": [
    "clg_name=\"sri ramachandra\"\n",
    "print(clg_name[::4])"
   ]
  },
  {
   "cell_type": "code",
   "execution_count": 8,
   "id": "298633df",
   "metadata": {},
   "outputs": [
    {
     "name": "stdout",
     "output_type": "stream",
     "text": [
      "ramachandra\n"
     ]
    }
   ],
   "source": [
    "clg_name=\"sri ramachandra\"\n",
    "print(clg_name[4::])"
   ]
  },
  {
   "cell_type": "code",
   "execution_count": 10,
   "id": "5ec92560",
   "metadata": {},
   "outputs": [
    {
     "name": "stdout",
     "output_type": "stream",
     "text": [
      " ramachandra\n"
     ]
    }
   ],
   "source": [
    "clg_name=\"sri ramachandra\"\n",
    "print(clg_name[-12::])"
   ]
  },
  {
   "cell_type": "code",
   "execution_count": 14,
   "id": "d4e33e38",
   "metadata": {},
   "outputs": [
    {
     "name": "stdout",
     "output_type": "stream",
     "text": [
      "ahcamar\n"
     ]
    }
   ],
   "source": [
    "clg_name=\"sri ramachandra\"\n",
    "print(clg_name[-5:-12:-1])"
   ]
  },
  {
   "cell_type": "markdown",
   "id": "4ca3a011",
   "metadata": {},
   "source": [
    "# string replace"
   ]
  },
  {
   "cell_type": "code",
   "execution_count": 16,
   "id": "0273ee68",
   "metadata": {},
   "outputs": [
    {
     "ename": "TypeError",
     "evalue": "'str' object does not support item assignment",
     "output_type": "error",
     "traceback": [
      "\u001b[1;31m---------------------------------------------------------------------------\u001b[0m",
      "\u001b[1;31mTypeError\u001b[0m                                 Traceback (most recent call last)",
      "\u001b[1;32m~\\AppData\\Local\\Temp/ipykernel_21408/1167070726.py\u001b[0m in \u001b[0;36m<module>\u001b[1;34m\u001b[0m\n\u001b[0;32m      1\u001b[0m \u001b[0mx\u001b[0m\u001b[1;33m=\u001b[0m\u001b[1;34m\"hello word\"\u001b[0m\u001b[1;33m\u001b[0m\u001b[1;33m\u001b[0m\u001b[0m\n\u001b[1;32m----> 2\u001b[1;33m \u001b[0mx\u001b[0m\u001b[1;33m[\u001b[0m\u001b[1;36m0\u001b[0m\u001b[1;33m]\u001b[0m\u001b[1;33m=\u001b[0m\u001b[1;34m\"j\"\u001b[0m\u001b[1;33m\u001b[0m\u001b[1;33m\u001b[0m\u001b[0m\n\u001b[0m",
      "\u001b[1;31mTypeError\u001b[0m: 'str' object does not support item assignment"
     ]
    }
   ],
   "source": [
    "x=\"hello word\"\n",
    "x[0]=\"j\""
   ]
  },
  {
   "cell_type": "code",
   "execution_count": 19,
   "id": "0c6bd541",
   "metadata": {},
   "outputs": [
    {
     "data": {
      "text/plain": [
       "'jello word'"
      ]
     },
     "execution_count": 19,
     "metadata": {},
     "output_type": "execute_result"
    }
   ],
   "source": [
    "nx=\"j\"+x[1:]\n",
    "nx"
   ]
  },
  {
   "cell_type": "markdown",
   "id": "f8cbf701",
   "metadata": {},
   "source": [
    "#Syntax: string.replace(old, new, count)"
   ]
  },
  {
   "cell_type": "code",
   "execution_count": 25,
   "id": "616f6636",
   "metadata": {},
   "outputs": [
    {
     "data": {
      "text/plain": [
       "'Hey word'"
      ]
     },
     "execution_count": 25,
     "metadata": {},
     "output_type": "execute_result"
    }
   ],
   "source": [
    "x.replace(\"hello\",\"Hey\")"
   ]
  },
  {
   "cell_type": "code",
   "execution_count": 31,
   "id": "ed6de0fc",
   "metadata": {},
   "outputs": [
    {
     "data": {
      "text/plain": [
       "'The change() method change a specified phrase with another '"
      ]
     },
     "execution_count": 31,
     "metadata": {},
     "output_type": "execute_result"
    }
   ],
   "source": [
    "para=\"The replace() method replace a specified phrase with another \"\n",
    "para1=para.replace(\"replace\",\"change\",2)\n",
    "para1"
   ]
  },
  {
   "cell_type": "code",
   "execution_count": 30,
   "id": "93cbfacf",
   "metadata": {},
   "outputs": [
    {
     "data": {
      "text/plain": [
       "'The change() method replace a specified phrase with another '"
      ]
     },
     "execution_count": 30,
     "metadata": {},
     "output_type": "execute_result"
    }
   ],
   "source": [
    "para=\"The replace() method replace a specified phrase with another \"\n",
    "para1=para.replace(\"replace\",\"change\",1)\n",
    "para1"
   ]
  },
  {
   "cell_type": "markdown",
   "id": "f6ca8840",
   "metadata": {},
   "source": [
    "# split\n"
   ]
  },
  {
   "cell_type": "code",
   "execution_count": 24,
   "id": "c3458887",
   "metadata": {},
   "outputs": [
    {
     "data": {
      "text/plain": [
       "['red', 'green', 'blue', 'yellow']"
      ]
     },
     "execution_count": 24,
     "metadata": {},
     "output_type": "execute_result"
    }
   ],
   "source": [
    "a=\"red/green/blue/yellow\"\n",
    "a1=a.split(\"/\")\n",
    "a1"
   ]
  },
  {
   "cell_type": "code",
   "execution_count": 28,
   "id": "485a5b6c",
   "metadata": {},
   "outputs": [
    {
     "data": {
      "text/plain": [
       "'red&green&blue&yellow'"
      ]
     },
     "execution_count": 28,
     "metadata": {},
     "output_type": "execute_result"
    }
   ],
   "source": [
    "b=\"&\".join(a1)\n",
    "b"
   ]
  },
  {
   "cell_type": "code",
   "execution_count": 32,
   "id": "ae1f63d5",
   "metadata": {},
   "outputs": [
    {
     "data": {
      "text/plain": [
       "'C:\\\\Users\\\\sivap\\\\Data Analytics'"
      ]
     },
     "execution_count": 32,
     "metadata": {},
     "output_type": "execute_result"
    }
   ],
   "source": [
    "import os\n",
    "os.getcwd( )"
   ]
  },
  {
   "cell_type": "code",
   "execution_count": 33,
   "id": "5218d031",
   "metadata": {},
   "outputs": [],
   "source": [
    "os.chdir('D:\\data analytics') "
   ]
  },
  {
   "cell_type": "code",
   "execution_count": 34,
   "id": "7c4a546d",
   "metadata": {},
   "outputs": [
    {
     "data": {
      "text/plain": [
       "'D:\\\\data analytics'"
      ]
     },
     "execution_count": 34,
     "metadata": {},
     "output_type": "execute_result"
    }
   ],
   "source": [
    "os.getcwd( )"
   ]
  },
  {
   "cell_type": "code",
   "execution_count": null,
   "id": "ae3353da",
   "metadata": {},
   "outputs": [],
   "source": []
  }
 ],
 "metadata": {
  "kernelspec": {
   "display_name": "Python 3 (ipykernel)",
   "language": "python",
   "name": "python3"
  },
  "language_info": {
   "codemirror_mode": {
    "name": "ipython",
    "version": 3
   },
   "file_extension": ".py",
   "mimetype": "text/x-python",
   "name": "python",
   "nbconvert_exporter": "python",
   "pygments_lexer": "ipython3",
   "version": "3.9.7"
  }
 },
 "nbformat": 4,
 "nbformat_minor": 5
}
