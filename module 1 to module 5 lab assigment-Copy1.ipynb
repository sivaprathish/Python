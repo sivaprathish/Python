{
 "cells": [
  {
   "cell_type": "markdown",
   "id": "777c0205",
   "metadata": {},
   "source": [
    "# Name: sivaprathish\n",
    "# \n",
    "# stream: b.sc data science\n",
    "# course: python\n",
    "# course code : csc 120\n"
   ]
  },
  {
   "cell_type": "markdown",
   "id": "e650324b",
   "metadata": {},
   "source": [
    "## Module-1:"
   ]
  },
  {
   "cell_type": "raw",
   "id": "3ea991c3",
   "metadata": {},
   "source": [
    "1. Write a function that will return the nth term of the Fibonacci sequence. The sequence has a relationship of Fn = Fn-1 + Fn-   2 with F0 = 0 and F1 = 1, where n=0,1,2,3,4,5,...\n",
    "  The sequence looks like: 0,1,1,2,3,5,8,13,...\n"
   ]
  },
  {
   "cell_type": "code",
   "execution_count": 13,
   "id": "9dee993e",
   "metadata": {},
   "outputs": [
    {
     "name": "stdout",
     "output_type": "stream",
     "text": [
      "enter the number; 6\n",
      "Fibonacci sequence:\n",
      "0\n",
      "1\n",
      "1\n",
      "2\n",
      "3\n",
      "5\n"
     ]
    }
   ],
   "source": [
    "n=int(input(\"enter the number; \"))\n",
    "n1, n2 = 0, 1\n",
    "count = 0\n",
    "\n",
    "if n <=0:\n",
    "    print(\"Incorrect input\")\n",
    "\n",
    "elif n == 1 :\n",
    "     print(1)\n",
    "else:\n",
    "        print(\"Fibonacci sequence:\")\n",
    "        while count < n:\n",
    "            print(n1)\n",
    "            nth = n1 + n2\n",
    "       # update values\n",
    "            n1 = n2\n",
    "            n2 = nth\n",
    "            count += 1\n",
    " "
   ]
  },
  {
   "cell_type": "raw",
   "id": "019708c3",
   "metadata": {},
   "source": [
    "2.Write a Python program to perform the following case A student will not be allowed to sit in exam if his/her attendance is     less than 75%.\n",
    "  Take following input from user\n",
    "  *Number of classes held\n",
    "  *Number of classes attended.\n",
    "  *And print\n",
    "  *Percentage of class attended\n",
    "  *Is student is allowed to sit in exam or not.\n"
   ]
  },
  {
   "cell_type": "code",
   "execution_count": 15,
   "id": "95bcb59b",
   "metadata": {},
   "outputs": [
    {
     "name": "stdout",
     "output_type": "stream",
     "text": [
      "Number of classes held; 10\n",
      "Number of classes attended; 3\n",
      "Percentage of class attended;  30.0 %\n",
      "student is allowed to write the exam\n"
     ]
    }
   ],
   "source": [
    "classes_held=int(input(\"Number of classes held; \"))\n",
    "classes_attended=int(input(\"Number of classes attended; \"))\n",
    "percentage=(classes_attended/classes_held)*100\n",
    "print(\"Percentage of class attended; \",percentage,\"%\")\n",
    "if(percentage<=75):\n",
    "    print(\"student is allowed to write the exam\")\n",
    "else:\n",
    "     print(\"student is Not allowed to write the exam\")\n",
    "    \n"
   ]
  },
  {
   "cell_type": "raw",
   "id": "2740a26f",
   "metadata": {},
   "source": [
    "3.Write a program to check if a year is leap year or not.\n",
    "  If a year is divisible by 4 then it is leap year but if the year is century year like 2000, 1900, 2100 then it must be         divisible by 400\n"
   ]
  },
  {
   "cell_type": "code",
   "execution_count": 17,
   "id": "3c4c8f54",
   "metadata": {},
   "outputs": [
    {
     "name": "stdout",
     "output_type": "stream",
     "text": [
      "enter the year; 2021\n",
      "the year 2021 is NOt a leap year\n"
     ]
    }
   ],
   "source": [
    "year=int(input(\"enter the year; \"))\n",
    "if(year%4==0 or year%400==0):\n",
    "    print(\"the year\",year,\"is a leap year\")\n",
    "else:\n",
    "    print(\"the year\",year,\"is NOt a leap year\")"
   ]
  },
  {
   "cell_type": "raw",
   "id": "022deb2a",
   "metadata": {},
   "source": [
    "4.James developing a salary calculator for his employee based on their skills. Help him to create a salary calculator using       python code.  \n",
    " *If the person knows Java,Python,C++  means his/her salary is Rs:30,000\n",
    " *If the person knows Java,python,Data Science means his./her salary is   Rs: 50,000  \n"
   ]
  },
  {
   "cell_type": "code",
   "execution_count": 24,
   "id": "13a02ad9",
   "metadata": {},
   "outputs": [
    {
     "name": "stdout",
     "output_type": "stream",
     "text": [
      "1.Java,Python,C++\n",
      ",2.Java,Python,data science\n",
      "2\n",
      "he knows Java,Python,data science so the salary is Rs.50,000\n"
     ]
    }
   ],
   "source": [
    "ch=input(\"1.Java,Python,C++\\n,2.Java,Python,data science\\n\")\n",
    "if(ch==\"1\"):\n",
    "    print(\"he knows Java,Python,C++ so the salary is Rs.30,000\")\n",
    "elif(ch==\"2\"):\n",
    "    print(\"he knows Java,Python,data science so the salary is Rs.50,000\")\n",
    "else:\n",
    "    print(\"invalid input\")    "
   ]
  },
  {
   "cell_type": "markdown",
   "id": "b1f952b3",
   "metadata": {},
   "source": [
    "# Module-2:"
   ]
  },
  {
   "cell_type": "raw",
   "id": "708f09d0",
   "metadata": {},
   "source": [
    "1.Write a Python program to count the number of even number in a given list.\n",
    "   my_list = [1, 2, 3, 4, 5, 6, 7, 100, 110, 21, 33, 32, 2, 4, 1].\n"
   ]
  },
  {
   "cell_type": "code",
   "execution_count": 37,
   "id": "94d69cf6",
   "metadata": {},
   "outputs": [
    {
     "name": "stdout",
     "output_type": "stream",
     "text": [
      "number of even numbers=  8\n"
     ]
    }
   ],
   "source": [
    " my_list = [1, 2, 3, 4, 5, 6, 7, 100, 110, 21, 33, 32, 2, 4, 1]\n",
    "count_even=0\n",
    "for i in my_list:\n",
    "    if(i%2==0):\n",
    "        count_even=count_even+1\n",
    "print(\"number of even numbers= \",count_even)"
   ]
  },
  {
   "cell_type": "raw",
   "id": "392487cf",
   "metadata": {},
   "source": [
    "2.Define a simple dictionary d = {'a': 1, 'b':5, 'c': 3, 'd': 2, 'e': 8, 'f': 6} and perform the\n",
    " following Tasks\n",
    " i. Add a new element in this dictionary (s : 12)\n",
    " ii. delete the element e from the dictionary d.\n",
    " iii. Get the value of the key a\n",
    " iv. Update the value of element a to 10\n",
    " v. Add 3 to the value of the element s\n",
    " vi. Check the length of the dictionary d. If it is less than 9, then add three more\n",
    " elements to it\n"
   ]
  },
  {
   "cell_type": "code",
   "execution_count": 3,
   "id": "bed53cea",
   "metadata": {},
   "outputs": [
    {
     "name": "stdout",
     "output_type": "stream",
     "text": [
      "{'a': 1, 'b': 5, 'c': 3, 'd': 2, 'e': 8, 'f': 6, 's': 12}\n"
     ]
    }
   ],
   "source": [
    " d = {'a': 1, 'b':5, 'c': 3, 'd': 2, 'e': 8, 'f': 6} \n",
    "d.update({'s':12})\n",
    "print(d)"
   ]
  },
  {
   "cell_type": "code",
   "execution_count": 5,
   "id": "021911a4",
   "metadata": {},
   "outputs": [
    {
     "name": "stdout",
     "output_type": "stream",
     "text": [
      "{'a': 1, 'b': 5, 'c': 3, 'd': 2, 'f': 6, 's': 12}\n"
     ]
    }
   ],
   "source": [
    "d.pop(\"e\")\n",
    "print(d)"
   ]
  },
  {
   "cell_type": "code",
   "execution_count": 7,
   "id": "6753d7ae",
   "metadata": {},
   "outputs": [
    {
     "data": {
      "text/plain": [
       "1"
      ]
     },
     "execution_count": 7,
     "metadata": {},
     "output_type": "execute_result"
    }
   ],
   "source": [
    "d[\"a\"]"
   ]
  },
  {
   "cell_type": "code",
   "execution_count": 9,
   "id": "54ade7fe",
   "metadata": {},
   "outputs": [
    {
     "data": {
      "text/plain": [
       "{'a': 1, 'b': 5, 'c': 3, 'd': 2, 'f': 6, 's': 15}"
      ]
     },
     "execution_count": 9,
     "metadata": {},
     "output_type": "execute_result"
    }
   ],
   "source": [
    "d.update({'s':12+3})\n",
    "d"
   ]
  },
  {
   "cell_type": "code",
   "execution_count": 12,
   "id": "1d67335f",
   "metadata": {},
   "outputs": [
    {
     "name": "stdout",
     "output_type": "stream",
     "text": [
      "3\n",
      "4\n",
      "5\n",
      "{'a': 1, 'b': 5, 'c': 3, 'd': 2, 'f': 6, 's': 15, 'x': '3', 'y': '4', 'z': '5'}\n"
     ]
    }
   ],
   "source": [
    "len(d)\n",
    "if(len(d)<9):\n",
    "    x=input()\n",
    "    y=input()\n",
    "    z=input()\n",
    "    d.update({'x':x})\n",
    "    d.update({'y':y})\n",
    "    d.update({'z':z})\n",
    "print(d)    "
   ]
  },
  {
   "cell_type": "raw",
   "id": "c49626f4",
   "metadata": {},
   "source": [
    "3. In an abc company, the manager wants to know below details,\n",
    " *Check whether the word present in the paragraph or not. Word: audit, balance\n",
    " *Check whether the paragraph contains any digit or not \n"
   ]
  },
  {
   "cell_type": "code",
   "execution_count": 18,
   "id": "702fd52b",
   "metadata": {},
   "outputs": [
    {
     "name": "stdout",
     "output_type": "stream",
     "text": [
      "['A', 'balance', 'sheet', 'audit', 'is', 'an', 'evaluation', 'of', 'the', 'accuracy', 'of', 'information', 'found', 'in', 'a', \"company's\", 'balance', 'sheet']\n",
      "b\n"
     ]
    }
   ],
   "source": [
    "def convert(pragraph):\n",
    "    return (pragraph[0].split())\n",
    "pragraph=[\"A balance sheet audit is an evaluation of the accuracy of information found in a company's balance sheet\"]\n",
    "print(convert(pragraph)) \n",
    "if '' in pragraph:\n",
    "    print(\"the word;audit is present\")\n",
    "else:\n",
    "    print(\"\")"
   ]
  },
  {
   "cell_type": "raw",
   "id": "c4ca4b29",
   "metadata": {},
   "source": [
    "4.Write a python program which accepts an input string and calculates the total number\n",
    "  of vowels in it."
   ]
  },
  {
   "cell_type": "code",
   "execution_count": 19,
   "id": "dfbec1fd",
   "metadata": {},
   "outputs": [
    {
     "name": "stdout",
     "output_type": "stream",
     "text": [
      "Enter string:sivaprathish\n",
      "Number of vowels are:\n",
      "4\n"
     ]
    }
   ],
   "source": [
    "string=input(\"Enter string:\")\n",
    "vowels=0\n",
    "for i in string:\n",
    "      if(i=='a' or i=='e' or i=='i' or i=='o' or i=='u' or i=='A' or i=='E' or i=='I' or i=='O' or i=='U'):\n",
    "            vowels=vowels+1\n",
    "print(\"Number of vowels are:\")\n",
    "print(vowels)"
   ]
  },
  {
   "cell_type": "markdown",
   "id": "c9e43277",
   "metadata": {},
   "source": [
    "# Module-3:"
   ]
  },
  {
   "cell_type": "raw",
   "id": "068225cd",
   "metadata": {},
   "source": [
    "1.First, create a function called shut down with only one argument, &quot;val&quot;. The shutdown\n",
    " function should then return &quot;Shutting down&quot; if the &quot;val&quot; parameter is equal to &quot;yes.&quot; If\n",
    " the value of elif &quot;val&quot; is &quot;no,&quot; the function should return &quot;Shutdown aborted.&quot; Finally,\n",
    " shut down should return &quot;Sorry&quot; if it receives anything other than those inputs. (using\n",
    " function)"
   ]
  },
  {
   "cell_type": "code",
   "execution_count": 1,
   "id": "e06beb48",
   "metadata": {},
   "outputs": [
    {
     "name": "stdout",
     "output_type": "stream",
     "text": [
      "enter yes.shutdown (or) no.not to shutdownyes\n",
      "shutting down\n"
     ]
    }
   ],
   "source": [
    "def shutdown(val):\n",
    "    if(val==\"yes\"):\n",
    "        print(\"shutting down\")\n",
    "    elif(val==\"no\"):\n",
    "        print(\"shutdown aborted\")\n",
    "    else:\n",
    "        print(\"sorry\")\n",
    "val=input(\"enter yes.shutdown (or) no.not to shutdown\")\n",
    "shutdown(val)"
   ]
  },
  {
   "cell_type": "raw",
   "id": "0d85ee31",
   "metadata": {},
   "source": [
    "2.Write a Python function “system_eqn” for computing an element in the sequencesystem_eqn(xn) = n**2 + 1. Call the “system_eqn” function with n = 4 and write out\n",
    "the result"
   ]
  },
  {
   "cell_type": "code",
   "execution_count": 7,
   "id": "affab2eb",
   "metadata": {},
   "outputs": [
    {
     "name": "stdout",
     "output_type": "stream",
     "text": [
      " result=  17\n"
     ]
    }
   ],
   "source": [
    "def system_eqn(n):\n",
    "    A=n**2+1\n",
    "    print(\" result= \",A)\n",
    "system_eqn(4)"
   ]
  },
  {
   "cell_type": "markdown",
   "id": "91c9178a",
   "metadata": {},
   "source": [
    " 3.Write a python program to find the area and circumference of a circle. Implement\n",
    "  exception handling in the program with the following conditions.\n",
    "   If radius is negative -&amp;gt; raise a user defined exception and print “No negative\n",
    "  numbers”\n",
    "   If radius is below 10 -&amp;gt; raise a user defined exception and print “Too small”\n",
    "   If radius is above 100 -&amp;gt; raise a user defined exception and print “Too\n",
    "  large”"
   ]
  },
  {
   "cell_type": "code",
   "execution_count": 13,
   "id": "554fe693",
   "metadata": {},
   "outputs": [
    {
     "name": "stdout",
     "output_type": "stream",
     "text": [
      "enter radius 5\n"
     ]
    },
    {
     "ename": "NameError",
     "evalue": "name 'ValueTooLarge' is not defined",
     "output_type": "error",
     "traceback": [
      "\u001b[1;31m---------------------------------------------------------------------------\u001b[0m",
      "\u001b[1;31mNameError\u001b[0m                                 Traceback (most recent call last)",
      "\u001b[1;32m~\\AppData\\Local\\Temp/ipykernel_16608/2399712790.py\u001b[0m in \u001b[0;36m<module>\u001b[1;34m\u001b[0m\n\u001b[0;32m     10\u001b[0m     \u001b[1;32melif\u001b[0m\u001b[1;33m(\u001b[0m\u001b[0mr\u001b[0m\u001b[1;33m<\u001b[0m\u001b[1;36m10\u001b[0m\u001b[1;33m)\u001b[0m\u001b[1;33m:\u001b[0m\u001b[1;33m\u001b[0m\u001b[1;33m\u001b[0m\u001b[0m\n\u001b[1;32m---> 11\u001b[1;33m         \u001b[1;32mraise\u001b[0m \u001b[0mValueTooSmall\u001b[0m\u001b[1;33m(\u001b[0m\u001b[1;34m\"too small\"\u001b[0m\u001b[1;33m)\u001b[0m\u001b[1;33m\u001b[0m\u001b[1;33m\u001b[0m\u001b[0m\n\u001b[0m\u001b[0;32m     12\u001b[0m     \u001b[1;32melif\u001b[0m\u001b[1;33m(\u001b[0m\u001b[0mr\u001b[0m\u001b[1;33m>\u001b[0m\u001b[1;36m100\u001b[0m\u001b[1;33m)\u001b[0m\u001b[1;33m:\u001b[0m\u001b[1;33m\u001b[0m\u001b[1;33m\u001b[0m\u001b[0m\n",
      "\u001b[1;31mNameError\u001b[0m: name 'ValueTooSmall' is not defined",
      "\nDuring handling of the above exception, another exception occurred:\n",
      "\u001b[1;31mNameError\u001b[0m                                 Traceback (most recent call last)",
      "\u001b[1;32m~\\AppData\\Local\\Temp/ipykernel_16608/2399712790.py\u001b[0m in \u001b[0;36m<module>\u001b[1;34m\u001b[0m\n\u001b[0;32m     12\u001b[0m     \u001b[1;32melif\u001b[0m\u001b[1;33m(\u001b[0m\u001b[0mr\u001b[0m\u001b[1;33m>\u001b[0m\u001b[1;36m100\u001b[0m\u001b[1;33m)\u001b[0m\u001b[1;33m:\u001b[0m\u001b[1;33m\u001b[0m\u001b[1;33m\u001b[0m\u001b[0m\n\u001b[0;32m     13\u001b[0m         \u001b[1;32mraise\u001b[0m \u001b[0mValueTooLarge\u001b[0m\u001b[1;33m(\u001b[0m\u001b[1;34m\"too large\"\u001b[0m\u001b[1;33m)\u001b[0m\u001b[1;33m\u001b[0m\u001b[1;33m\u001b[0m\u001b[0m\n\u001b[1;32m---> 14\u001b[1;33m \u001b[1;32mexcept\u001b[0m \u001b[0mValueTooLarge\u001b[0m \u001b[1;32mas\u001b[0m \u001b[0ml\u001b[0m\u001b[1;33m:\u001b[0m\u001b[1;33m\u001b[0m\u001b[1;33m\u001b[0m\u001b[0m\n\u001b[0m\u001b[0;32m     15\u001b[0m         \u001b[0mprint\u001b[0m\u001b[1;33m(\u001b[0m\u001b[0ml\u001b[0m\u001b[1;33m)\u001b[0m\u001b[1;33m\u001b[0m\u001b[1;33m\u001b[0m\u001b[0m\n\u001b[0;32m     16\u001b[0m \u001b[1;32mexcept\u001b[0m \u001b[0mValueTooSmall\u001b[0m \u001b[1;32mas\u001b[0m \u001b[0ms\u001b[0m\u001b[1;33m:\u001b[0m\u001b[1;33m\u001b[0m\u001b[1;33m\u001b[0m\u001b[0m\n",
      "\u001b[1;31mNameError\u001b[0m: name 'ValueTooLarge' is not defined"
     ]
    }
   ],
   "source": [
    "try:    \n",
    "    r=int(input(\"enter radius \"))\n",
    "    if(r>10 and r<100):\n",
    "        a=3.14*r**2\n",
    "        b=2*3.14*r\n",
    "        print(\"area is\",a)\n",
    "        print(\"radius is\",b)\n",
    "    elif(r<=0):\n",
    "        print(\"no negative numbers \")\n",
    "    elif(r<10):\n",
    "        raise ValueTooSmall(\"too small\") \n",
    "    elif(r>100):\n",
    "        raise ValueTooLarge(\"too large\")\n",
    "except ValueTooLarge as l:\n",
    "        print(l)\n",
    "except ValueTooSmall as s:\n",
    "        print(s)"
   ]
  },
  {
   "cell_type": "raw",
   "id": "a1907e24",
   "metadata": {},
   "source": [
    "4.Ram wanted to retrieve the following values from the students. He also gets a criteria\n",
    "that if address value is not given, then use “SRET-Porur” as a default value.\n",
    " Name\n",
    " Unique ID\n",
    " Phone Number\n",
    " Address\n",
    "Help him to complete this using function in Python."
   ]
  },
  {
   "cell_type": "code",
   "execution_count": 12,
   "id": "a403079e",
   "metadata": {},
   "outputs": [
    {
     "name": "stdout",
     "output_type": "stream",
     "text": [
      "student details\n",
      "enter your namesiva\n",
      "enter your id6007\n",
      "enter your phone number962601007\n",
      "enter your address2\\4,west street,pattukkottai\n",
      "Name siva\n",
      "uniqueid 6007\n",
      "phone number 962601007\n",
      "address 2\\4,west street,pattukkottai\n"
     ]
    }
   ],
   "source": [
    "def ram(name,uniqueid,phone,address=\"SRET-porur\"):\n",
    "    print(\"Name\",name)\n",
    "    print(\"uniqueid\",uniqueid)\n",
    "    print(\"phone number\",phone)\n",
    "    print(\"address\",address)\n",
    "print(\"student details\")\n",
    "n=input(\"enter your name\")\n",
    "u=int(input(\"enter your id\"))\n",
    "p=int(input(\"enter your phone number\"))\n",
    "ad=input(\"enter your address\")\n",
    "if len(ad)==0:\n",
    "    ram(n,u,p)\n",
    "else:\n",
    "    ram(n,u,p,ad)"
   ]
  },
  {
   "cell_type": "markdown",
   "id": "fcb49e05",
   "metadata": {},
   "source": [
    "# module-4:"
   ]
  },
  {
   "cell_type": "raw",
   "id": "616328e4",
   "metadata": {},
   "source": [
    "1.Create a Temperature class. Make two methods:\n",
    " Convert Fahrenheit – It will take Celsius and will print it into Fahrenheit.\n",
    " Conver Celsius – It will take Fahrenheit and will print in Celsius (c=(5 *(fahrenheit -\n",
    "32.0)) / 9.0)"
   ]
  },
  {
   "cell_type": "code",
   "execution_count": 14,
   "id": "1ef3e2d8",
   "metadata": {},
   "outputs": [
    {
     "name": "stdout",
     "output_type": "stream",
     "text": [
      "enter the celsius55\n",
      "Fahrenheit  131.0\n"
     ]
    }
   ],
   "source": [
    "celsius=int(input(\"enter the celsius\"))\n",
    "fahrenheit = (celsius * 1.8) + 32\n",
    "print(\"TemperFahrenheit \",fahrenheit)"
   ]
  },
  {
   "cell_type": "code",
   "execution_count": null,
   "id": "68d32934",
   "metadata": {},
   "outputs": [],
   "source": [
    "Fahrenheit= 54  \n",
    "Celsius = ((Fahrenheit-32)*5)/9  \n",
    "print(\"Temperature in Celsius is: \");  \n",
    "print(Celsius);"
   ]
  }
 ],
 "metadata": {
  "kernelspec": {
   "display_name": "Python 3 (ipykernel)",
   "language": "python",
   "name": "python3"
  },
  "language_info": {
   "codemirror_mode": {
    "name": "ipython",
    "version": 3
   },
   "file_extension": ".py",
   "mimetype": "text/x-python",
   "name": "python",
   "nbconvert_exporter": "python",
   "pygments_lexer": "ipython3",
   "version": "3.9.7"
  }
 },
 "nbformat": 4,
 "nbformat_minor": 5
}
