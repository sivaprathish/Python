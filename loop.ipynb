{
 "cells": [
  {
   "cell_type": "raw",
   "id": "b4488053",
   "metadata": {},
   "source": [
    "Name: sivaprathish\n",
    "id:E6221008\n",
    "stream: b.sc data science\n",
    "course: python\n",
    "course code : csc 120\n",
    "date :8.12.2021"
   ]
  },
  {
   "cell_type": "markdown",
   "id": "95255f59",
   "metadata": {},
   "source": [
    "# looping statement\n",
    "pass,\n",
    "break,\n",
    "continue"
   ]
  },
  {
   "cell_type": "code",
   "execution_count": 12,
   "id": "3b43aafe",
   "metadata": {},
   "outputs": [
    {
     "name": "stdout",
     "output_type": "stream",
     "text": [
      "1\n",
      "2\n",
      "3\n",
      "4\n"
     ]
    }
   ],
   "source": [
    "for i in range(1,10):\n",
    "    if(i==5):\n",
    "        break\n",
    "    print(i)      "
   ]
  },
  {
   "cell_type": "code",
   "execution_count": 13,
   "id": "684e1287",
   "metadata": {},
   "outputs": [
    {
     "name": "stdout",
     "output_type": "stream",
     "text": [
      "1\n",
      "2\n",
      "3\n",
      "4\n",
      "6\n",
      "7\n",
      "8\n",
      "9\n"
     ]
    }
   ],
   "source": [
    "for i in range(1,10):\n",
    "    if(i==5):\n",
    "        continue\n",
    "    print(i)      "
   ]
  },
  {
   "cell_type": "code",
   "execution_count": 17,
   "id": "cec3f995",
   "metadata": {},
   "outputs": [
    {
     "name": "stdout",
     "output_type": "stream",
     "text": [
      "python\n",
      "r\n",
      "java\n"
     ]
    }
   ],
   "source": [
    "l=[\"python\",\"r\",\"c\",\"java\"]\n",
    "for i in range(len(l)):\n",
    "    if(l[i]==\"c\"):\n",
    "        continue\n",
    "    print(l[i])   "
   ]
  },
  {
   "cell_type": "code",
   "execution_count": 18,
   "id": "ff7c81b8",
   "metadata": {},
   "outputs": [
    {
     "name": "stdout",
     "output_type": "stream",
     "text": [
      "python\n",
      "r\n"
     ]
    }
   ],
   "source": [
    "l=[\"python\",\"r\",\"c\",\"java\"]\n",
    "for i in range(len(l)):\n",
    "    if(l[i]==\"c\"):\n",
    "        break\n",
    "    print(l[i]) "
   ]
  },
  {
   "cell_type": "code",
   "execution_count": 19,
   "id": "fcd84210",
   "metadata": {},
   "outputs": [],
   "source": [
    "l=[\"python\",\"r\",\"c\",\"java\"]\n",
    "for i in range(len(l)):\n",
    "    if(l[i]==\"c\"):\n",
    "        continue\n",
    "    print(l[i]) :\n",
    "    pass"
   ]
  },
  {
   "cell_type": "code",
   "execution_count": 21,
   "id": "3e315d37",
   "metadata": {},
   "outputs": [
    {
     "name": "stdout",
     "output_type": "stream",
     "text": [
      "9\n"
     ]
    }
   ],
   "source": [
    "print(i)"
   ]
  },
  {
   "cell_type": "code",
   "execution_count": 181,
   "id": "448f006f",
   "metadata": {},
   "outputs": [
    {
     "name": "stdout",
     "output_type": "stream",
     "text": [
      "enter the number4\n",
      "Sum of first  4 numbers is:  10\n"
     ]
    }
   ],
   "source": [
    "n=int(input(\"enter the number\"))\n",
    "sum = 0\n",
    "for num in range(1, n + 1):\n",
    "    sum = sum + num\n",
    "print(\"Sum of first \", n, \"numbers is: \", sum)"
   ]
  },
  {
   "cell_type": "code",
   "execution_count": 28,
   "id": "c31c6792",
   "metadata": {},
   "outputs": [
    {
     "name": "stdout",
     "output_type": "stream",
     "text": [
      "enter the number3\n"
     ]
    },
    {
     "ename": "TypeError",
     "evalue": "'int' object is not callable",
     "output_type": "error",
     "traceback": [
      "\u001b[1;31m---------------------------------------------------------------------------\u001b[0m",
      "\u001b[1;31mTypeError\u001b[0m                                 Traceback (most recent call last)",
      "\u001b[1;32m~\\AppData\\Local\\Temp/ipykernel_21288/263784595.py\u001b[0m in \u001b[0;36m<module>\u001b[1;34m\u001b[0m\n\u001b[0;32m      1\u001b[0m \u001b[0ma\u001b[0m\u001b[1;33m=\u001b[0m\u001b[0mint\u001b[0m\u001b[1;33m(\u001b[0m\u001b[0minput\u001b[0m\u001b[1;33m(\u001b[0m\u001b[1;34m\"enter the number\"\u001b[0m\u001b[1;33m)\u001b[0m\u001b[1;33m)\u001b[0m\u001b[1;33m\u001b[0m\u001b[1;33m\u001b[0m\u001b[0m\n\u001b[1;32m----> 2\u001b[1;33m \u001b[0mb\u001b[0m\u001b[1;33m=\u001b[0m\u001b[0msum\u001b[0m\u001b[1;33m(\u001b[0m\u001b[0mrange\u001b[0m\u001b[1;33m(\u001b[0m\u001b[1;36m1\u001b[0m\u001b[1;33m,\u001b[0m\u001b[0ma\u001b[0m\u001b[1;33m+\u001b[0m\u001b[1;36m1\u001b[0m\u001b[1;33m)\u001b[0m\u001b[1;33m)\u001b[0m\u001b[1;33m\u001b[0m\u001b[1;33m\u001b[0m\u001b[0m\n\u001b[0m\u001b[0;32m      3\u001b[0m \u001b[0mprint\u001b[0m\u001b[1;33m(\u001b[0m\u001b[1;34m\"sum is\"\u001b[0m\u001b[1;33m,\u001b[0m\u001b[0mb\u001b[0m\u001b[1;33m)\u001b[0m\u001b[1;33m\u001b[0m\u001b[1;33m\u001b[0m\u001b[0m\n",
      "\u001b[1;31mTypeError\u001b[0m: 'int' object is not callable"
     ]
    }
   ],
   "source": [
    "a=int(input(\"enter the number\"))\n",
    "b=sum(range(1,a+1))\n",
    "print(\"sum is\",b)"
   ]
  },
  {
   "cell_type": "code",
   "execution_count": 29,
   "id": "129366e0",
   "metadata": {},
   "outputs": [
    {
     "name": "stdout",
     "output_type": "stream",
     "text": [
      "enter the number3333\n",
      "4\n"
     ]
    }
   ],
   "source": [
    "a=int(input(\"enter the number\"))\n",
    "count=0\n",
    "while a!=0:\n",
    "    a=a//10\n",
    "    count=count+1\n",
    "print(count)    "
   ]
  },
  {
   "cell_type": "code",
   "execution_count": 33,
   "id": "b9479558",
   "metadata": {},
   "outputs": [
    {
     "name": "stdout",
     "output_type": "stream",
     "text": [
      "2\n",
      "4\n",
      "6\n",
      "8\n"
     ]
    }
   ],
   "source": [
    "l=[1,2,3,4,5,6,7,8]\n",
    "for i in range(1,len(l),2):\n",
    "    print(l[i])"
   ]
  },
  {
   "cell_type": "code",
   "execution_count": 42,
   "id": "c2e01f93",
   "metadata": {},
   "outputs": [
    {
     "data": {
      "text/plain": [
       "'avis'"
      ]
     },
     "execution_count": 42,
     "metadata": {},
     "output_type": "execute_result"
    }
   ],
   "source": [
    "s=\"sivaprathish\"\n",
    "s[3::-1]"
   ]
  },
  {
   "cell_type": "code",
   "execution_count": 2,
   "id": "41287032",
   "metadata": {},
   "outputs": [
    {
     "name": "stdout",
     "output_type": "stream",
     "text": [
      "palindrome\n"
     ]
    }
   ],
   "source": [
    "a= '121'\n",
    "b=a[::-1]\n",
    "if(a==b):\n",
    "    print(\"palindrome\")\n",
    "else:\n",
    "    print('not')"
   ]
  },
  {
   "cell_type": "code",
   "execution_count": 38,
   "id": "b7f65d77",
   "metadata": {},
   "outputs": [
    {
     "name": "stdout",
     "output_type": "stream",
     "text": [
      "palindrome\n"
     ]
    }
   ],
   "source": [
    "a=\"amma\"\n",
    "b=a[::-1]\n",
    "if(a==b):\n",
    "    print(\"palindrome\")\n",
    "else:\n",
    "    print('not')"
   ]
  },
  {
   "cell_type": "code",
   "execution_count": 40,
   "id": "fa52c991",
   "metadata": {},
   "outputs": [
    {
     "name": "stdout",
     "output_type": "stream",
     "text": [
      "palindrome\n"
     ]
    }
   ],
   "source": [
    "a=\"11011\"\n",
    "b=a[::-1]\n",
    "if(a==b):\n",
    "    print(\"palindrome\")\n",
    "else:\n",
    "    print('not')"
   ]
  },
  {
   "cell_type": "code",
   "execution_count": 43,
   "id": "39d8b5c6",
   "metadata": {},
   "outputs": [],
   "source": [
    "x=36/4*(3+2)*4*+2"
   ]
  },
  {
   "cell_type": "code",
   "execution_count": 44,
   "id": "8e6034b6",
   "metadata": {},
   "outputs": [
    {
     "data": {
      "text/plain": [
       "360.0"
      ]
     },
     "execution_count": 44,
     "metadata": {},
     "output_type": "execute_result"
    }
   ],
   "source": [
    "x"
   ]
  },
  {
   "cell_type": "code",
   "execution_count": 46,
   "id": "a020a40f",
   "metadata": {},
   "outputs": [],
   "source": [
    "s=\"siva\"*6"
   ]
  },
  {
   "cell_type": "code",
   "execution_count": 47,
   "id": "ec1ff5d7",
   "metadata": {},
   "outputs": [
    {
     "data": {
      "text/plain": [
       "'sivasivasivasivasivasiva'"
      ]
     },
     "execution_count": 47,
     "metadata": {},
     "output_type": "execute_result"
    }
   ],
   "source": [
    "s\n"
   ]
  },
  {
   "cell_type": "code",
   "execution_count": 48,
   "id": "15d90cff",
   "metadata": {},
   "outputs": [],
   "source": [
    "l=(\"python\",\"r\",\"c\",\"java\")"
   ]
  },
  {
   "cell_type": "code",
   "execution_count": 49,
   "id": "a3117386",
   "metadata": {},
   "outputs": [
    {
     "data": {
      "text/plain": [
       "('java', 'c', 'r', 'python')"
      ]
     },
     "execution_count": 49,
     "metadata": {},
     "output_type": "execute_result"
    }
   ],
   "source": [
    "l[::-1]"
   ]
  },
  {
   "cell_type": "code",
   "execution_count": 180,
   "id": "b1c58534",
   "metadata": {},
   "outputs": [
    {
     "ename": "TypeError",
     "evalue": "'tuple' object does not support item assignment",
     "output_type": "error",
     "traceback": [
      "\u001b[1;31m---------------------------------------------------------------------------\u001b[0m",
      "\u001b[1;31mTypeError\u001b[0m                                 Traceback (most recent call last)",
      "\u001b[1;32m~\\AppData\\Local\\Temp/ipykernel_21288/3956047435.py\u001b[0m in \u001b[0;36m<module>\u001b[1;34m\u001b[0m\n\u001b[1;32m----> 1\u001b[1;33m \u001b[0ml\u001b[0m\u001b[1;33m[\u001b[0m\u001b[1;36m2\u001b[0m\u001b[1;33m]\u001b[0m\u001b[1;33m=\u001b[0m\u001b[1;36m3\u001b[0m\u001b[1;33m\u001b[0m\u001b[1;33m\u001b[0m\u001b[0m\n\u001b[0m",
      "\u001b[1;31mTypeError\u001b[0m: 'tuple' object does not support item assignment"
     ]
    }
   ],
   "source": [
    "l[2]=3"
   ]
  },
  {
   "cell_type": "code",
   "execution_count": 52,
   "id": "f90e15ff",
   "metadata": {},
   "outputs": [
    {
     "ename": "TypeError",
     "evalue": "'tuple' object doesn't support item deletion",
     "output_type": "error",
     "traceback": [
      "\u001b[1;31m---------------------------------------------------------------------------\u001b[0m",
      "\u001b[1;31mTypeError\u001b[0m                                 Traceback (most recent call last)",
      "\u001b[1;32m~\\AppData\\Local\\Temp/ipykernel_21288/3373587119.py\u001b[0m in \u001b[0;36m<module>\u001b[1;34m\u001b[0m\n\u001b[1;32m----> 1\u001b[1;33m \u001b[1;32mdel\u001b[0m \u001b[0ml\u001b[0m\u001b[1;33m[\u001b[0m\u001b[1;36m2\u001b[0m\u001b[1;33m]\u001b[0m\u001b[1;33m\u001b[0m\u001b[1;33m\u001b[0m\u001b[0m\n\u001b[0m",
      "\u001b[1;31mTypeError\u001b[0m: 'tuple' object doesn't support item deletion"
     ]
    }
   ],
   "source": [
    "del l[2]"
   ]
  },
  {
   "cell_type": "code",
   "execution_count": 53,
   "id": "3ea36be3",
   "metadata": {},
   "outputs": [
    {
     "data": {
      "text/plain": [
       "'r'"
      ]
     },
     "execution_count": 53,
     "metadata": {},
     "output_type": "execute_result"
    }
   ],
   "source": [
    "max(l)"
   ]
  },
  {
   "cell_type": "code",
   "execution_count": 54,
   "id": "2527f43b",
   "metadata": {},
   "outputs": [
    {
     "data": {
      "text/plain": [
       "'c'"
      ]
     },
     "execution_count": 54,
     "metadata": {},
     "output_type": "execute_result"
    }
   ],
   "source": [
    "min(l)"
   ]
  },
  {
   "cell_type": "code",
   "execution_count": 61,
   "id": "f97cfa11",
   "metadata": {},
   "outputs": [
    {
     "name": "stdout",
     "output_type": "stream",
     "text": [
      "abcs\n"
     ]
    }
   ],
   "source": [
    "aaa=\"abcs@gmail.com\"\n",
    "user,name=aaa.split(\"@\")\n",
    "print(user)"
   ]
  },
  {
   "cell_type": "code",
   "execution_count": 60,
   "id": "4b2897a9",
   "metadata": {},
   "outputs": [
    {
     "data": {
      "text/plain": [
       "['abcs', 'gmail.com']"
      ]
     },
     "execution_count": 60,
     "metadata": {},
     "output_type": "execute_result"
    }
   ],
   "source": [
    "username"
   ]
  },
  {
   "cell_type": "code",
   "execution_count": 65,
   "id": "5541e945",
   "metadata": {},
   "outputs": [
    {
     "data": {
      "text/plain": [
       "{1, 2, 3, 4, 5, 67}"
      ]
     },
     "execution_count": 65,
     "metadata": {},
     "output_type": "execute_result"
    }
   ],
   "source": [
    "s={1,2,3,4}\n",
    "t={4,5,67}\n",
    "s.update(t)\n",
    "s"
   ]
  },
  {
   "cell_type": "code",
   "execution_count": 73,
   "id": "46124b68",
   "metadata": {},
   "outputs": [],
   "source": [
    "s.remove(5)"
   ]
  },
  {
   "cell_type": "code",
   "execution_count": 74,
   "id": "0a522de3",
   "metadata": {},
   "outputs": [],
   "source": [
    "s.discard(2)"
   ]
  },
  {
   "cell_type": "code",
   "execution_count": 75,
   "id": "e5e02d87",
   "metadata": {},
   "outputs": [
    {
     "data": {
      "text/plain": [
       "{1, 3, 67}"
      ]
     },
     "execution_count": 75,
     "metadata": {},
     "output_type": "execute_result"
    }
   ],
   "source": [
    "s"
   ]
  },
  {
   "cell_type": "code",
   "execution_count": 76,
   "id": "106f23c4",
   "metadata": {},
   "outputs": [
    {
     "data": {
      "text/plain": [
       "{1, 3}"
      ]
     },
     "execution_count": 76,
     "metadata": {},
     "output_type": "execute_result"
    }
   ],
   "source": [
    "s.difference(t)"
   ]
  },
  {
   "cell_type": "code",
   "execution_count": 77,
   "id": "51844416",
   "metadata": {},
   "outputs": [
    {
     "data": {
      "text/plain": [
       "{1, 3, 4, 5, 67}"
      ]
     },
     "execution_count": 77,
     "metadata": {},
     "output_type": "execute_result"
    }
   ],
   "source": [
    "s.union(t)"
   ]
  },
  {
   "cell_type": "code",
   "execution_count": 78,
   "id": "2e9a1744",
   "metadata": {},
   "outputs": [
    {
     "data": {
      "text/plain": [
       "{67}"
      ]
     },
     "execution_count": 78,
     "metadata": {},
     "output_type": "execute_result"
    }
   ],
   "source": [
    "s.intersection(t)"
   ]
  },
  {
   "cell_type": "raw",
   "id": "6e62ba46",
   "metadata": {},
   "source": [
    "# write a program that creates two sets (square and cube sets) in the range 1-10 and demonstrate union,intersection,difference,update,remove,add,discard\n",
    "split also"
   ]
  },
  {
   "cell_type": "code",
   "execution_count": 91,
   "id": "b72d7027",
   "metadata": {},
   "outputs": [],
   "source": [
    "f={f**2 for f in range(1,11)}\n"
   ]
  },
  {
   "cell_type": "code",
   "execution_count": 92,
   "id": "5fca392d",
   "metadata": {},
   "outputs": [],
   "source": [
    "d={d**3 for d in range(1,11)}"
   ]
  },
  {
   "cell_type": "code",
   "execution_count": 93,
   "id": "a4b19794",
   "metadata": {},
   "outputs": [
    {
     "data": {
      "text/plain": [
       "{1, 4, 8, 9, 16, 25, 27, 36, 49, 64, 81, 100, 125, 216, 343, 512, 729, 1000}"
      ]
     },
     "execution_count": 93,
     "metadata": {},
     "output_type": "execute_result"
    }
   ],
   "source": [
    "f.union(d)"
   ]
  },
  {
   "cell_type": "code",
   "execution_count": 94,
   "id": "5550ccfd",
   "metadata": {},
   "outputs": [
    {
     "data": {
      "text/plain": [
       "{1, 64}"
      ]
     },
     "execution_count": 94,
     "metadata": {},
     "output_type": "execute_result"
    }
   ],
   "source": [
    "f.intersection(d)"
   ]
  },
  {
   "cell_type": "code",
   "execution_count": 95,
   "id": "e84969dc",
   "metadata": {},
   "outputs": [
    {
     "data": {
      "text/plain": [
       "[1, 4, 9, 16, 25, 36, 49, 64, 81, 100]"
      ]
     },
     "execution_count": 95,
     "metadata": {},
     "output_type": "execute_result"
    }
   ],
   "source": [
    "sorted(f)"
   ]
  },
  {
   "cell_type": "code",
   "execution_count": 98,
   "id": "8e386a29",
   "metadata": {},
   "outputs": [],
   "source": [
    "f.remove(1)"
   ]
  },
  {
   "cell_type": "code",
   "execution_count": 99,
   "id": "96df28f4",
   "metadata": {},
   "outputs": [
    {
     "data": {
      "text/plain": [
       "{4, 9, 16, 25, 36, 49, 64, 81, 100}"
      ]
     },
     "execution_count": 99,
     "metadata": {},
     "output_type": "execute_result"
    }
   ],
   "source": [
    "f"
   ]
  },
  {
   "cell_type": "code",
   "execution_count": 100,
   "id": "35f61c7f",
   "metadata": {},
   "outputs": [],
   "source": [
    "f.add(11)"
   ]
  },
  {
   "cell_type": "code",
   "execution_count": 101,
   "id": "ffcdeb6b",
   "metadata": {},
   "outputs": [
    {
     "data": {
      "text/plain": [
       "{4, 9, 11, 16, 25, 36, 49, 64, 81, 100}"
      ]
     },
     "execution_count": 101,
     "metadata": {},
     "output_type": "execute_result"
    }
   ],
   "source": [
    "f"
   ]
  },
  {
   "cell_type": "code",
   "execution_count": 108,
   "id": "686c6261",
   "metadata": {},
   "outputs": [],
   "source": [
    "d={'lol':\"siva\",2:5555,3:\"zx\"}"
   ]
  },
  {
   "cell_type": "code",
   "execution_count": 109,
   "id": "cd03207d",
   "metadata": {},
   "outputs": [
    {
     "data": {
      "text/plain": [
       "dict"
      ]
     },
     "execution_count": 109,
     "metadata": {},
     "output_type": "execute_result"
    }
   ],
   "source": [
    "type(d)"
   ]
  },
  {
   "cell_type": "code",
   "execution_count": 110,
   "id": "5c8397fb",
   "metadata": {},
   "outputs": [
    {
     "data": {
      "text/plain": [
       "'zx'"
      ]
     },
     "execution_count": 110,
     "metadata": {},
     "output_type": "execute_result"
    }
   ],
   "source": [
    "d[3]"
   ]
  },
  {
   "cell_type": "code",
   "execution_count": 111,
   "id": "e97d3e0a",
   "metadata": {},
   "outputs": [
    {
     "data": {
      "text/plain": [
       "5555"
      ]
     },
     "execution_count": 111,
     "metadata": {},
     "output_type": "execute_result"
    }
   ],
   "source": [
    "d[2]"
   ]
  },
  {
   "cell_type": "code",
   "execution_count": 112,
   "id": "d82b8e3a",
   "metadata": {},
   "outputs": [
    {
     "data": {
      "text/plain": [
       "'siva'"
      ]
     },
     "execution_count": 112,
     "metadata": {},
     "output_type": "execute_result"
    }
   ],
   "source": [
    "d['lol']"
   ]
  },
  {
   "cell_type": "code",
   "execution_count": 2,
   "id": "94150639",
   "metadata": {},
   "outputs": [
    {
     "ename": "NameError",
     "evalue": "name 'd' is not defined",
     "output_type": "error",
     "traceback": [
      "\u001b[1;31m---------------------------------------------------------------------------\u001b[0m",
      "\u001b[1;31mNameError\u001b[0m                                 Traceback (most recent call last)",
      "\u001b[1;32m~\\AppData\\Local\\Temp/ipykernel_13800/1509751435.py\u001b[0m in \u001b[0;36m<module>\u001b[1;34m\u001b[0m\n\u001b[1;32m----> 1\u001b[1;33m \u001b[0md\u001b[0m\u001b[1;33m.\u001b[0m\u001b[0mupdate\u001b[0m\u001b[1;33m(\u001b[0m\u001b[1;33m{\u001b[0m\u001b[1;36m3\u001b[0m\u001b[1;33m:\u001b[0m\u001b[1;36m50\u001b[0m\u001b[1;33m}\u001b[0m\u001b[1;33m)\u001b[0m\u001b[1;33m\u001b[0m\u001b[1;33m\u001b[0m\u001b[0m\n\u001b[0m",
      "\u001b[1;31mNameError\u001b[0m: name 'd' is not defined"
     ]
    }
   ],
   "source": [
    "d.update({3:50})"
   ]
  },
  {
   "cell_type": "code",
   "execution_count": 114,
   "id": "dcdab2a6",
   "metadata": {},
   "outputs": [
    {
     "data": {
      "text/plain": [
       "{'lol': 'siva', 2: 5555, 3: 50}"
      ]
     },
     "execution_count": 114,
     "metadata": {},
     "output_type": "execute_result"
    }
   ],
   "source": [
    "d"
   ]
  },
  {
   "cell_type": "code",
   "execution_count": 115,
   "id": "f78a7ebf",
   "metadata": {},
   "outputs": [
    {
     "data": {
      "text/plain": [
       "{1: 4, 2: 5, 3: 6}"
      ]
     },
     "execution_count": 115,
     "metadata": {},
     "output_type": "execute_result"
    }
   ],
   "source": [
    "list1=[1,2,3]\n",
    "list2=[4,5,6]\n",
    "a=zip(list1,list2)\n",
    "dict(a)"
   ]
  },
  {
   "cell_type": "code",
   "execution_count": 116,
   "id": "83139721",
   "metadata": {},
   "outputs": [
    {
     "data": {
      "text/plain": [
       "<zip at 0x2213c67fa00>"
      ]
     },
     "execution_count": 116,
     "metadata": {},
     "output_type": "execute_result"
    }
   ],
   "source": [
    "a"
   ]
  },
  {
   "cell_type": "code",
   "execution_count": 118,
   "id": "66309928",
   "metadata": {},
   "outputs": [
    {
     "name": "stdout",
     "output_type": "stream",
     "text": [
      "enterr\n"
     ]
    }
   ],
   "source": [
    "s={1:100,2:30,4:'j'}\n",
    "n=input(\"enter\")\n",
    "s.update({4:n})"
   ]
  },
  {
   "cell_type": "code",
   "execution_count": 119,
   "id": "8b1f1238",
   "metadata": {},
   "outputs": [
    {
     "data": {
      "text/plain": [
       "{1: 100, 2: 30, 4: 'r'}"
      ]
     },
     "execution_count": 119,
     "metadata": {},
     "output_type": "execute_result"
    }
   ],
   "source": [
    "s"
   ]
  },
  {
   "cell_type": "code",
   "execution_count": 120,
   "id": "dc25a5dc",
   "metadata": {},
   "outputs": [
    {
     "name": "stdout",
     "output_type": "stream",
     "text": [
      "present\n"
     ]
    }
   ],
   "source": [
    "if 2 in s:\n",
    "    print(\"present\")\n",
    "else:\n",
    "    print(\"not present\")"
   ]
  },
  {
   "cell_type": "code",
   "execution_count": 124,
   "id": "e7517868",
   "metadata": {},
   "outputs": [
    {
     "name": "stdout",
     "output_type": "stream",
     "text": [
      "Enter value to search:1\n",
      "👍\n"
     ]
    }
   ],
   "source": [
    "s={1:99,2:100,3:102}\n",
    "n=int(input(\"Enter value to search:\"))\n",
    "if(n in s):\n",
    "    print(\"👍\")\n",
    "elif(n not in s):\n",
    "    print(\"The key is not found\")\n",
    "    ch=input(\"enter choice if you want to update:\")\n",
    "    if(ch==\"yes\"):\n",
    "        val=int(input(\"Enterthe value:\"))\n",
    "        s.update({n:val})\n",
    "        print(s)\n",
    "    else:\n",
    "        print(\"Thank you\")\n",
    "        print(s)"
   ]
  },
  {
   "cell_type": "code",
   "execution_count": 125,
   "id": "d83e4146",
   "metadata": {},
   "outputs": [
    {
     "ename": "SyntaxError",
     "evalue": "invalid syntax (Temp/ipykernel_21288/1768015167.py, line 1)",
     "output_type": "error",
     "traceback": [
      "\u001b[1;36m  File \u001b[1;32m\"C:\\Users\\sivap\\AppData\\Local\\Temp/ipykernel_21288/1768015167.py\"\u001b[1;36m, line \u001b[1;32m1\u001b[0m\n\u001b[1;33m    s=[1:2]\u001b[0m\n\u001b[1;37m        ^\u001b[0m\n\u001b[1;31mSyntaxError\u001b[0m\u001b[1;31m:\u001b[0m invalid syntax\n"
     ]
    }
   ],
   "source": [
    "s=[1:2]"
   ]
  },
  {
   "cell_type": "code",
   "execution_count": 126,
   "id": "b436c766",
   "metadata": {},
   "outputs": [],
   "source": [
    "x = ['a','b',\n",
    "    {\n",
    "        'foo': 1,\n",
    "        'bar':\n",
    "        {\n",
    "            'x' : 10,\n",
    "            'y' : 20,\n",
    "            'z' : 30\n",
    "        },\n",
    "        'baz': 3\n",
    "    },\n",
    "    'c',\n",
    "    'd'\n",
    "]"
   ]
  },
  {
   "cell_type": "code",
   "execution_count": 128,
   "id": "64fa8e29",
   "metadata": {},
   "outputs": [
    {
     "data": {
      "text/plain": [
       "3"
      ]
     },
     "execution_count": 128,
     "metadata": {},
     "output_type": "execute_result"
    }
   ],
   "source": [
    "x[2][\"baz\"]"
   ]
  },
  {
   "cell_type": "code",
   "execution_count": 129,
   "id": "b544a737",
   "metadata": {},
   "outputs": [
    {
     "data": {
      "text/plain": [
       "{'x': 10, 'y': 20, 'z': 30}"
      ]
     },
     "execution_count": 129,
     "metadata": {},
     "output_type": "execute_result"
    }
   ],
   "source": [
    "x[2][\"bar\"]"
   ]
  },
  {
   "cell_type": "code",
   "execution_count": 131,
   "id": "bfd4df4d",
   "metadata": {},
   "outputs": [
    {
     "data": {
      "text/plain": [
       "100"
      ]
     },
     "execution_count": 131,
     "metadata": {},
     "output_type": "execute_result"
    }
   ],
   "source": [
    "s.pop(2)"
   ]
  },
  {
   "cell_type": "code",
   "execution_count": 132,
   "id": "c08d9804",
   "metadata": {},
   "outputs": [
    {
     "data": {
      "text/plain": [
       "{1: 99, 3: 102}"
      ]
     },
     "execution_count": 132,
     "metadata": {},
     "output_type": "execute_result"
    }
   ],
   "source": [
    "s"
   ]
  },
  {
   "cell_type": "code",
   "execution_count": 133,
   "id": "a8886554",
   "metadata": {},
   "outputs": [
    {
     "data": {
      "text/plain": [
       "{'Ten': 10, 'Twenty': 20, 'Thirty': 30}"
      ]
     },
     "execution_count": 133,
     "metadata": {},
     "output_type": "execute_result"
    }
   ],
   "source": [
    "keys = ['Ten', 'Twenty', 'Thirty']\n",
    "values = [10, 20, 30]\n",
    "a=zip(keys,values)\n",
    "dict(a)"
   ]
  },
  {
   "cell_type": "markdown",
   "id": "d2b63502",
   "metadata": {},
   "source": [
    "# function"
   ]
  },
  {
   "cell_type": "code",
   "execution_count": 135,
   "id": "61bdd325",
   "metadata": {},
   "outputs": [
    {
     "name": "stdout",
     "output_type": "stream",
     "text": [
      "😁 sret\n"
     ]
    }
   ],
   "source": [
    "def sample(name):\n",
    "    print(\"😁\",name)\n",
    "sample(\"sret\")"
   ]
  },
  {
   "cell_type": "code",
   "execution_count": 3,
   "id": "dda23b89",
   "metadata": {},
   "outputs": [
    {
     "name": "stdout",
     "output_type": "stream",
     "text": [
      "welcome sret 007\n",
      "welcome sret 007\n"
     ]
    }
   ],
   "source": [
    "def sample(name,id):\n",
    "    print(\"welcome\",name,id)\n",
    "sample(\"sret\",\"007\")\n",
    "sample(\"sret\",\"007\")"
   ]
  },
  {
   "cell_type": "code",
   "execution_count": 6,
   "id": "1894aa05",
   "metadata": {},
   "outputs": [
    {
     "name": "stdout",
     "output_type": "stream",
     "text": [
      "name s\n",
      "ID 7\n",
      "clg sriher\n"
     ]
    }
   ],
   "source": [
    "def sret(name,ed,clg=\"sriher\"):\n",
    "    print(\"name\",name)\n",
    "    print(\"ID\",ed)\n",
    "    print(\"clg\",clg)\n",
    "sret(\"s\",7)"
   ]
  },
  {
   "cell_type": "code",
   "execution_count": 7,
   "id": "0bdc2c7b",
   "metadata": {},
   "outputs": [
    {
     "ename": "IndentationError",
     "evalue": "expected an indented block (Temp/ipykernel_2508/2013908270.py, line 3)",
     "output_type": "error",
     "traceback": [
      "\u001b[1;36m  File \u001b[1;32m\"C:\\Users\\sivap\\AppData\\Local\\Temp/ipykernel_2508/2013908270.py\"\u001b[1;36m, line \u001b[1;32m3\u001b[0m\n\u001b[1;33m    print(\"name\",name)\u001b[0m\n\u001b[1;37m    ^\u001b[0m\n\u001b[1;31mIndentationError\u001b[0m\u001b[1;31m:\u001b[0m expected an indented block\n"
     ]
    }
   ],
   "source": [
    "def sret(name,ed,clg=\"sriher\"):\n",
    "    def sret(name,ed,clg=\"sriher\"):\n",
    "    print(\"name\",name)\n",
    "    print(\"ID\",ed)\n",
    "    print(\"clg\",clg)\n",
    "n=input(\"enter \") \n",
    "i=int(input(\"enter \"))\n",
    "sret(n,i)"
   ]
  },
  {
   "cell_type": "code",
   "execution_count": 150,
   "id": "085956ee",
   "metadata": {},
   "outputs": [
    {
     "name": "stdout",
     "output_type": "stream",
     "text": [
      "name siv\n",
      "id 14\n"
     ]
    }
   ],
   "source": [
    "# keyword\n",
    "def display(name,id):\n",
    "    print(\"name\",name)\n",
    "    print(\"id\",id)\n",
    "display(id=14,name=\"siv\")    "
   ]
  },
  {
   "cell_type": "code",
   "execution_count": 10,
   "id": "5122c77f",
   "metadata": {},
   "outputs": [
    {
     "name": "stdout",
     "output_type": "stream",
     "text": [
      "enter \n",
      "enter \n",
      "enter \n",
      "enter \n",
      "name python\n",
      "ID python\n",
      "dept python\n",
      "course python\n"
     ]
    }
   ],
   "source": [
    "def detial(name,id,dept,course):\n",
    "    if(len(c)>0):\n",
    "        \n",
    "        print(\"name\",n)\n",
    "        print(\"ID\",i)\n",
    "        print(\"dept\",d)\n",
    "        print(\"course\",c)\n",
    "    else:\n",
    "        print(\"name python\")\n",
    "        print(\"ID python\")\n",
    "        print(\"dept python\")\n",
    "        print(\"course python\")\n",
    "n=input(\"enter \")       \n",
    "i=input(\"enter \")\n",
    "d=input(\"enter \")\n",
    "c=input(\"enter \")\n",
    "detial(n,i,d,c)"
   ]
  },
  {
   "cell_type": "code",
   "execution_count": 157,
   "id": "4df02c01",
   "metadata": {},
   "outputs": [
    {
     "name": "stdout",
     "output_type": "stream",
     "text": [
      "very bad\n",
      "bad\n"
     ]
    }
   ],
   "source": [
    "#global and local variable\n",
    "var=\"bad\"\n",
    "def show():\n",
    "    var=\"very bad\"\n",
    "    print(var)\n",
    "show()    \n",
    "print(var)"
   ]
  },
  {
   "cell_type": "markdown",
   "id": "6997fac4",
   "metadata": {},
   "source": [
    "Write a program to calculate the Simple Intrest suppose the customer is a senior citizen is being offered 12% rate of intrest. for the other customers rate of intrest is 10%."
   ]
  },
  {
   "cell_type": "code",
   "execution_count": 168,
   "id": "8f2b1eda",
   "metadata": {},
   "outputs": [
    {
     "name": "stdout",
     "output_type": "stream",
     "text": [
      "enter:1000\n",
      "enter:2\n",
      "enter:sc or ncsc\n",
      "2.4\n"
     ]
    }
   ],
   "source": [
    "def si(p,n,r):\n",
    "    if(r==\"sc\"):\n",
    "        n=(p*n*0.12)/100\n",
    "        print(n)\n",
    "    else:\n",
    "        n=(p*n*0.1)/100\n",
    "        print(n)\n",
    "p=int(input(\"enter:\"))\n",
    "n=int(input(\"enter:\"))\n",
    "r=input(\"enter:sc or nc\")        \n",
    "si(p,n,r)"
   ]
  },
  {
   "cell_type": "code",
   "execution_count": 169,
   "id": "d184ac3d",
   "metadata": {},
   "outputs": [],
   "source": [
    "# module"
   ]
  },
  {
   "cell_type": "code",
   "execution_count": 176,
   "id": "45b50805",
   "metadata": {},
   "outputs": [
    {
     "name": "stdout",
     "output_type": "stream",
     "text": [
      "enter:6\n",
      "enter:2004\n",
      "     June 2004\n",
      "Mo Tu We Th Fr Sa Su\n",
      "    1  2  3  4  5  6\n",
      " 7  8  9 10 11 12 13\n",
      "14 15 16 17 18 19 20\n",
      "21 22 23 24 25 26 27\n",
      "28 29 30\n",
      "\n"
     ]
    }
   ],
   "source": [
    "import calendar\n",
    "m=int(input(\"enter:\"))\n",
    "year=int(input(\"enter:\"))\n",
    "print(calendar.month(year,m))"
   ]
  },
  {
   "cell_type": "code",
   "execution_count": 174,
   "id": "8ef0f1e7",
   "metadata": {},
   "outputs": [
    {
     "name": "stdout",
     "output_type": "stream",
     "text": [
      "                                  2207\n",
      "\n",
      "      January                   February                   March\n",
      "Mo Tu We Th Fr Sa Su      Mo Tu We Th Fr Sa Su      Mo Tu We Th Fr Sa Su\n",
      "          1  2  3  4                         1                         1\n",
      " 5  6  7  8  9 10 11       2  3  4  5  6  7  8       2  3  4  5  6  7  8\n",
      "12 13 14 15 16 17 18       9 10 11 12 13 14 15       9 10 11 12 13 14 15\n",
      "19 20 21 22 23 24 25      16 17 18 19 20 21 22      16 17 18 19 20 21 22\n",
      "26 27 28 29 30 31         23 24 25 26 27 28         23 24 25 26 27 28 29\n",
      "                                                    30 31\n",
      "\n",
      "       April                      May                       June\n",
      "Mo Tu We Th Fr Sa Su      Mo Tu We Th Fr Sa Su      Mo Tu We Th Fr Sa Su\n",
      "       1  2  3  4  5                   1  2  3       1  2  3  4  5  6  7\n",
      " 6  7  8  9 10 11 12       4  5  6  7  8  9 10       8  9 10 11 12 13 14\n",
      "13 14 15 16 17 18 19      11 12 13 14 15 16 17      15 16 17 18 19 20 21\n",
      "20 21 22 23 24 25 26      18 19 20 21 22 23 24      22 23 24 25 26 27 28\n",
      "27 28 29 30               25 26 27 28 29 30 31      29 30\n",
      "\n",
      "        July                     August                  September\n",
      "Mo Tu We Th Fr Sa Su      Mo Tu We Th Fr Sa Su      Mo Tu We Th Fr Sa Su\n",
      "       1  2  3  4  5                      1  2          1  2  3  4  5  6\n",
      " 6  7  8  9 10 11 12       3  4  5  6  7  8  9       7  8  9 10 11 12 13\n",
      "13 14 15 16 17 18 19      10 11 12 13 14 15 16      14 15 16 17 18 19 20\n",
      "20 21 22 23 24 25 26      17 18 19 20 21 22 23      21 22 23 24 25 26 27\n",
      "27 28 29 30 31            24 25 26 27 28 29 30      28 29 30\n",
      "                          31\n",
      "\n",
      "      October                   November                  December\n",
      "Mo Tu We Th Fr Sa Su      Mo Tu We Th Fr Sa Su      Mo Tu We Th Fr Sa Su\n",
      "          1  2  3  4                         1          1  2  3  4  5  6\n",
      " 5  6  7  8  9 10 11       2  3  4  5  6  7  8       7  8  9 10 11 12 13\n",
      "12 13 14 15 16 17 18       9 10 11 12 13 14 15      14 15 16 17 18 19 20\n",
      "19 20 21 22 23 24 25      16 17 18 19 20 21 22      21 22 23 24 25 26 27\n",
      "26 27 28 29 30 31         23 24 25 26 27 28 29      28 29 30 31\n",
      "                          30\n",
      "\n"
     ]
    }
   ],
   "source": [
    "print(calendar.calendar(2207))"
   ]
  },
  {
   "cell_type": "raw",
   "id": "ccc86780",
   "metadata": {},
   "source": [
    "Write a program that uses the getpass module to prompt the user for the password without echoing or printing what the typed password is to the console"
   ]
  },
  {
   "cell_type": "code",
   "execution_count": 177,
   "id": "d39fdfd6",
   "metadata": {},
   "outputs": [
    {
     "name": "stdout",
     "output_type": "stream",
     "text": [
      "password:········\n"
     ]
    }
   ],
   "source": [
    "import getpass\n",
    "password=getpass.getpass(\"password:\")"
   ]
  },
  {
   "cell_type": "code",
   "execution_count": 179,
   "id": "2556d405",
   "metadata": {},
   "outputs": [
    {
     "name": "stdout",
     "output_type": "stream",
     "text": [
      "😡🤬\n"
     ]
    }
   ],
   "source": [
    "if(password==123456987):\n",
    "    print(\"welcome\")\n",
    "else:\n",
    "    print(\"😡🤬\")"
   ]
  },
  {
   "cell_type": "code",
   "execution_count": null,
   "id": "d4aa752a",
   "metadata": {},
   "outputs": [],
   "source": []
  }
 ],
 "metadata": {
  "kernelspec": {
   "display_name": "Python 3 (ipykernel)",
   "language": "python",
   "name": "python3"
  },
  "language_info": {
   "codemirror_mode": {
    "name": "ipython",
    "version": 3
   },
   "file_extension": ".py",
   "mimetype": "text/x-python",
   "name": "python",
   "nbconvert_exporter": "python",
   "pygments_lexer": "ipython3",
   "version": "3.9.7"
  }
 },
 "nbformat": 4,
 "nbformat_minor": 5
}
