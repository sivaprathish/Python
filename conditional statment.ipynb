{
 "cells": [
  {
   "cell_type": "markdown",
   "id": "e7e3cccc",
   "metadata": {},
   "source": [
    "# Name: sivaprathish\n",
    "# id:E6221008\n",
    "# stream: b.sc data science\n",
    "# course: python\n",
    "# course code : csc 120\n",
    "# date :6.12.2021"
   ]
  },
  {
   "cell_type": "code",
   "execution_count": 114,
   "id": "ca33cfc8",
   "metadata": {},
   "outputs": [
    {
     "name": "stdout",
     "output_type": "stream",
     "text": [
      "enter the radius2\n",
      "the area of the circle of  2 is 12\n"
     ]
    }
   ],
   "source": [
    "#area of the diff shapes\n",
    "# circle = 3.14 *r*r\n",
    "r=int(input(\"enter the radius\"))\n",
    "area=3.14*r*r\n",
    "print(\"the area of the circle of \",r,\"is\",int(area))"
   ]
  },
  {
   "cell_type": "code",
   "execution_count": 3,
   "id": "2f5776ec",
   "metadata": {},
   "outputs": [
    {
     "name": "stdout",
     "output_type": "stream",
     "text": [
      "enter the side4\n",
      "the area of square; 16\n"
     ]
    }
   ],
   "source": [
    "#area of square\n",
    "# A=s**2\n",
    "s=int(input(\"enter the side\"))\n",
    "area=s**2\n",
    "print(\"the area of square;\",area)"
   ]
  },
  {
   "cell_type": "code",
   "execution_count": 4,
   "id": "4d0008f0",
   "metadata": {},
   "outputs": [
    {
     "name": "stdout",
     "output_type": "stream",
     "text": [
      "enter the length4\n",
      "enter the breath6\n",
      "the area of rectangle is 24\n"
     ]
    }
   ],
   "source": [
    "#area of rectangle\n",
    "# R = L*B\n",
    "L=int(input(\"enter the length\"))\n",
    "B=int(input(\"enter the breath\"))\n",
    "area=L*B\n",
    "print(\"the area of rectangle is\",area)"
   ]
  },
  {
   "cell_type": "code",
   "execution_count": 5,
   "id": "70401167",
   "metadata": {},
   "outputs": [
    {
     "name": "stdout",
     "output_type": "stream",
     "text": [
      "enter the length4\n",
      "enter the breath2\n",
      "the area of triangle is 4.0\n"
     ]
    }
   ],
   "source": [
    "#area of triangle\n",
    "# t = 1/2*L*B\n",
    "L=int(input(\"enter the length\"))\n",
    "B=int(input(\"enter the breath\"))\n",
    "area=1/2*L*B\n",
    "print(\"the area of triangle is\",area)"
   ]
  },
  {
   "cell_type": "markdown",
   "id": "aba50cd6",
   "metadata": {},
   "source": [
    "# conditional statement"
   ]
  },
  {
   "cell_type": "code",
   "execution_count": 9,
   "id": "7b3fc162",
   "metadata": {},
   "outputs": [
    {
     "name": "stdout",
     "output_type": "stream",
     "text": [
      " the b number great\n"
     ]
    }
   ],
   "source": [
    "a=10\n",
    "b=20\n",
    "if(a<b):\n",
    "    print(\" the b number great\")"
   ]
  },
  {
   "cell_type": "code",
   "execution_count": 8,
   "id": "b555e0c0",
   "metadata": {},
   "outputs": [
    {
     "name": "stdout",
     "output_type": "stream",
     "text": [
      "B is greater\n"
     ]
    }
   ],
   "source": [
    "if (a>b):\n",
    "    print(\"A is great\")\n",
    "else:\n",
    "    print(\"B is greater\")\n",
    "    "
   ]
  },
  {
   "cell_type": "code",
   "execution_count": 12,
   "id": "2871a957",
   "metadata": {},
   "outputs": [
    {
     "name": "stdout",
     "output_type": "stream",
     "text": [
      "B is greater\n"
     ]
    }
   ],
   "source": [
    "if (a>b):\n",
    "    print(\"A is great\")\n",
    "elif(a==b):\n",
    "    print(\"a equal b\")\n",
    "elif(a<b):\n",
    "    print(\"B is greater\")\n",
    "else:\n",
    "    print(\"nothing\")"
   ]
  },
  {
   "cell_type": "code",
   "execution_count": 15,
   "id": "6e711214",
   "metadata": {
    "scrolled": true
   },
   "outputs": [
    {
     "name": "stdout",
     "output_type": "stream",
     "text": [
      "enter the number4\n",
      "enter the number5\n",
      "enter the choice a.add b.sub c.mulc\n",
      "multiple 20\n"
     ]
    }
   ],
   "source": [
    "# calculater\n",
    "num1=int(input(\"enter the number\"))\n",
    "num2=int(input(\"enter the number\"))\n",
    "ch=input(\"enter the choice a.add b.sub c.mul\")\n",
    "if(ch==\"a\"):\n",
    "    print(\"addition is\",num1+num2)\n",
    "elif(ch==\"b\"):\n",
    "    print(\"subration\",num1-num2)\n",
    "elif(ch==\"c\"):\n",
    "    print(\"multiple\",num1*num2)\n",
    "else:\n",
    "    print(\"invalid input\")"
   ]
  },
  {
   "cell_type": "code",
   "execution_count": 3,
   "id": "70708fb2",
   "metadata": {
    "scrolled": true
   },
   "outputs": [
    {
     "name": "stdout",
     "output_type": "stream",
     "text": [
      "1.circle\n",
      " 2,square\n",
      " 3.rectangle\n",
      "1\n",
      "enter the radius7\n",
      "the area of the circle of  7 is 153\n"
     ]
    }
   ],
   "source": [
    "ch=input(\"1.circle\\n 2,square\\n 3.rectangle\\n\")\n",
    "if(ch==\"1\"):\n",
    "    r=int(input(\"enter the radius\"))\n",
    "    area=3.14*r*r\n",
    "    print(\"the area of the circle of \",r,\"is\",int(area))\n",
    "elif(ch==\"2\"):\n",
    "    s=int(input(\"enter the side\"))\n",
    "    area=s**2\n",
    "    print(\"the area of square;\",area)\n",
    "elif(ch==\"3\"):\n",
    "    L=int(input(\"enter the length\"))\n",
    "    B=int(input(\"enter the breath\"))\n",
    "    area=L*B\n",
    "    print(\"the area of rectangle is\",area)\n",
    "else:\n",
    "    print(\"invalid input\")"
   ]
  },
  {
   "cell_type": "raw",
   "id": "dc937bc9",
   "metadata": {},
   "source": [
    "Write a python program to take input from user and then check whether it is a number or a character. if it is character, determine whether it is in upper case or lower case"
   ]
  },
  {
   "cell_type": "code",
   "execution_count": 22,
   "id": "b744cdf7",
   "metadata": {},
   "outputs": [
    {
     "name": "stdout",
     "output_type": "stream",
     "text": [
      "enter the value;x\n",
      "lowercase\n"
     ]
    }
   ],
   "source": [
    "character=input(\"enter the value;\")\n",
    "if(character>\"A\" and character<=\"Z\"):\n",
    "    print(\"uppercase\")\n",
    "elif(character>\"a\" and character<=\"z\"):\n",
    "    print(\"lowercase\")\n",
    "elif(character>\"0\" and character<=\"9\"):\n",
    "    print(\"number\")\n"
   ]
  },
  {
   "cell_type": "code",
   "execution_count": 25,
   "id": "ed315179",
   "metadata": {},
   "outputs": [
    {
     "name": "stdout",
     "output_type": "stream",
     "text": [
      "enter the year 2004\n",
      "leap year\n"
     ]
    }
   ],
   "source": [
    "# leap year or not\n",
    "year=int(input(\"enter the year \"))\n",
    "if(year%4==0):\n",
    "    print(\"leap year\")\n",
    "else:\n",
    "    print(\"not a leap year\")"
   ]
  },
  {
   "cell_type": "raw",
   "id": "39b4a284",
   "metadata": {},
   "source": [
    "A company decides to give bonus to all of it's employees on Diwali. A 5% bonus on salary is given to the male workers and 10% bonus to the female workers. Write a program to enter the salary of the employee and sex of the employee. If the salary of the employee is less than Rs10,000 then the employee gets an extra 2% bonus on salary. Calculate the bonus that has to be given to the employee and display the salary that the employee will get."
   ]
  },
  {
   "cell_type": "code",
   "execution_count": 34,
   "id": "cf1753a7",
   "metadata": {},
   "outputs": [
    {
     "name": "stdout",
     "output_type": "stream",
     "text": [
      "f.female\n",
      " m.male\n",
      "m\n",
      "enter the salary60000\n",
      "bonus= 6000.0\n",
      "salary= 66000.0\n"
     ]
    }
   ],
   "source": [
    "gender=input(\"f.female\\n m.male\\n\")\n",
    "salary=int(input(\"enter the salary\"))\n",
    "if(salary<=10000 and gender== \"f\"):\n",
    "    bonus=0.12*salary\n",
    "    print(\"bonus=\",bonus)\n",
    "    print(\"salary=\",bonus+salary)\n",
    "elif(salary>=10000 and gender== \"f\"):\n",
    "    bonus=0.1*salary\n",
    "    print(\"bonus=\",bonus)\n",
    "    print(\"salary=\",bonus+salary)\n",
    "elif(salary<=10000 and gender== \"m\"):\n",
    "    bonus=0.07*salary\n",
    "    print(\"bonus=\",bonus)\n",
    "    print(\"salary=\",bonus+salary)\n",
    "elif(salary>=10000 and gender== \"m\"):\n",
    "    bonus=0.1*salary\n",
    "    print(\"bonus=\",bonus)\n",
    "    print(\"salary=\",bonus+salary)    \n",
    "    "
   ]
  },
  {
   "cell_type": "code",
   "execution_count": 35,
   "id": "435273cd",
   "metadata": {},
   "outputs": [
    {
     "name": "stdout",
     "output_type": "stream",
     "text": [
      "enter valuexx\n",
      "its a character\n"
     ]
    }
   ],
   "source": [
    "ch=input(\"enter value\")\n",
    "if(ch.isalpha()):\n",
    "    print('its a character')\n",
    "elif(ch.isdigit()):\n",
    "    print(\"number\")\n",
    "else:\n",
    "    print(\"invalid\")"
   ]
  },
  {
   "cell_type": "raw",
   "id": "01ebf786",
   "metadata": {},
   "source": [
    "odd or even"
   ]
  },
  {
   "cell_type": "code",
   "execution_count": 43,
   "id": "651e4855",
   "metadata": {},
   "outputs": [
    {
     "name": "stdout",
     "output_type": "stream",
     "text": [
      "enter the value8\n",
      "even\n"
     ]
    }
   ],
   "source": [
    "a=int(input(\"enter the value\"))\n",
    "if(a%2==0):\n",
    "    print(\"even\")\n",
    "elif(a==0):\n",
    "    print(\"zero\")\n",
    "else:\n",
    "    print(\"odd\")"
   ]
  },
  {
   "cell_type": "raw",
   "id": "3eddeb00",
   "metadata": {},
   "source": [
    "positive or negative"
   ]
  },
  {
   "cell_type": "code",
   "execution_count": 40,
   "id": "38eb260e",
   "metadata": {},
   "outputs": [
    {
     "name": "stdout",
     "output_type": "stream",
     "text": [
      "enter the value-6\n",
      "negative number\n"
     ]
    }
   ],
   "source": [
    "b=int(input(\"enter the value\"))\n",
    "if(b>0):\n",
    "    print(\"positive number\")\n",
    "elif(b<0):\n",
    "    print(\"negative number\")\n",
    "else:\n",
    "    print(\"neutral\")"
   ]
  },
  {
   "cell_type": "raw",
   "id": "7cabe4ce",
   "metadata": {},
   "source": [
    "nested if"
   ]
  },
  {
   "cell_type": "code",
   "execution_count": 44,
   "id": "91d35abd",
   "metadata": {},
   "outputs": [
    {
     "name": "stdout",
     "output_type": "stream",
     "text": [
      "enter the number to check5\n",
      "Enter the choice 1. Odd or even 2. Positive or Ngative2\n",
      "Positive\n"
     ]
    }
   ],
   "source": [
    "num=int(input(\"enter the number to check\"))\n",
    "ch=int(input(\"Enter the choice 1. Odd or even 2. Positive or Ngative\"))\n",
    "if(ch==1):\n",
    "    if(num%2==0):\n",
    "        print(\"Even number\")\n",
    "    else:\n",
    "        print(\"Odd number\")\n",
    "elif(ch==2):\n",
    "    if(num>0):\n",
    "        print(\"Positive\")\n",
    "    else:\n",
    "        print(\"nagtive\")"
   ]
  },
  {
   "cell_type": "markdown",
   "id": "66d28568",
   "metadata": {},
   "source": [
    "# looping statement"
   ]
  },
  {
   "cell_type": "code",
   "execution_count": 45,
   "id": "c580f26e",
   "metadata": {},
   "outputs": [
    {
     "name": "stdout",
     "output_type": "stream",
     "text": [
      "1\n",
      "2\n",
      "3\n",
      "4\n",
      "5\n",
      "6\n",
      "7\n",
      "8\n",
      "9\n"
     ]
    }
   ],
   "source": [
    "for i in range(1,10):\n",
    "    print(i)"
   ]
  },
  {
   "cell_type": "code",
   "execution_count": 46,
   "id": "1bae8081",
   "metadata": {},
   "outputs": [
    {
     "name": "stdout",
     "output_type": "stream",
     "text": [
      "2\n",
      "4\n",
      "6\n",
      "8\n",
      "10\n",
      "12\n",
      "14\n",
      "16\n",
      "18\n"
     ]
    }
   ],
   "source": [
    "for i in range(2,20,2):\n",
    "    print(i)"
   ]
  },
  {
   "cell_type": "code",
   "execution_count": 47,
   "id": "1cbd10a1",
   "metadata": {},
   "outputs": [
    {
     "name": "stdout",
     "output_type": "stream",
     "text": [
      "enter the value 9\n",
      "enter the value 50\n",
      "enter the value 5\n",
      "9\n",
      "14\n",
      "19\n",
      "24\n",
      "29\n",
      "34\n",
      "39\n",
      "44\n",
      "49\n"
     ]
    }
   ],
   "source": [
    "start=int(input(\"enter the value \"))\n",
    "stop=int(input(\"enter the value \"))\n",
    "step=int(input(\"enter the value \"))\n",
    "for i in range(start,stop,step):\n",
    "    print(i)"
   ]
  },
  {
   "cell_type": "code",
   "execution_count": 54,
   "id": "ce2dc713",
   "metadata": {},
   "outputs": [],
   "source": [
    "l=[\"siva\",\"prathish\",\"python\"]\n",
    "   "
   ]
  },
  {
   "cell_type": "code",
   "execution_count": 55,
   "id": "23869040",
   "metadata": {},
   "outputs": [
    {
     "data": {
      "text/plain": [
       "['siva', 'prathish', 'python']"
      ]
     },
     "execution_count": 55,
     "metadata": {},
     "output_type": "execute_result"
    }
   ],
   "source": [
    "l"
   ]
  },
  {
   "cell_type": "code",
   "execution_count": 56,
   "id": "eb7f6647",
   "metadata": {},
   "outputs": [
    {
     "name": "stdout",
     "output_type": "stream",
     "text": [
      "siva\n",
      "prathish\n",
      "python\n"
     ]
    }
   ],
   "source": [
    "for i in (l):\n",
    "    print(i)"
   ]
  },
  {
   "cell_type": "code",
   "execution_count": 57,
   "id": "be2d7755",
   "metadata": {},
   "outputs": [],
   "source": [
    "l=[\"welcome to sret siva\",\"welcome to sret prathish\",\"welcome to sret python\"]"
   ]
  },
  {
   "cell_type": "code",
   "execution_count": 58,
   "id": "9b3b3af4",
   "metadata": {},
   "outputs": [
    {
     "name": "stdout",
     "output_type": "stream",
     "text": [
      "welcome to sret siva\n",
      "welcome to sret prathish\n",
      "welcome to sret python\n"
     ]
    }
   ],
   "source": [
    "for i in (l):\n",
    "    print(i)"
   ]
  },
  {
   "cell_type": "code",
   "execution_count": 60,
   "id": "04862491",
   "metadata": {},
   "outputs": [
    {
     "name": "stdout",
     "output_type": "stream",
     "text": [
      "2\n",
      "4\n",
      "6\n",
      "8\n"
     ]
    }
   ],
   "source": [
    "d=[1,2,3,4,5,6,7,8,9]\n",
    "for i in (d):\n",
    "    if(i%2==0):\n",
    "        print(i)"
   ]
  },
  {
   "cell_type": "code",
   "execution_count": 64,
   "id": "62dc017e",
   "metadata": {},
   "outputs": [
    {
     "name": "stdout",
     "output_type": "stream",
     "text": [
      "negative number are -1\n",
      "negative number are -33\n",
      "negative number are -44\n"
     ]
    }
   ],
   "source": [
    "k=[-1,2,-33,-44,22,30]\n",
    "for i in (k):\n",
    "    if(i<0):\n",
    "        print(\"negative number are\",i)"
   ]
  },
  {
   "cell_type": "code",
   "execution_count": 66,
   "id": "0c777d92",
   "metadata": {},
   "outputs": [
    {
     "name": "stdout",
     "output_type": "stream",
     "text": [
      "enter the value 2004\n",
      "enter the value 2020\n",
      "2004 2005 2006 2007 2008 2009 2010 2011 2012 2013 2014 2015 2016 2017 2018 2019 "
     ]
    }
   ],
   "source": [
    "start=int(input(\"enter the value \"))\n",
    "stop=int(input(\"enter the value \"))\n",
    "for i in range(start,stop):\n",
    "    if(year%4==0):\n",
    "        print(i,end=\" \")"
   ]
  },
  {
   "cell_type": "code",
   "execution_count": 67,
   "id": "89c65c94",
   "metadata": {},
   "outputs": [
    {
     "name": "stdout",
     "output_type": "stream",
     "text": [
      "1\n",
      "2\n",
      "3\n",
      "4\n",
      "5\n"
     ]
    }
   ],
   "source": [
    "n=5\n",
    "for i in range(1,n+1):\n",
    "    print(i)"
   ]
  },
  {
   "cell_type": "code",
   "execution_count": 77,
   "id": "bb8422c2",
   "metadata": {},
   "outputs": [
    {
     "name": "stdout",
     "output_type": "stream",
     "text": [
      "enter the value3\n",
      "6\n"
     ]
    }
   ],
   "source": [
    "num=int(input(\"enter the value\"))\n",
    "if(num==0):\n",
    "    print(\"fact is 1 \")\n",
    "fact1=1\n",
    "for i in range(1,num+1):\n",
    "        fact1=fact1*i\n",
    "print(fact1)"
   ]
  },
  {
   "cell_type": "code",
   "execution_count": 84,
   "id": "1f2ed98b",
   "metadata": {},
   "outputs": [
    {
     "name": "stdout",
     "output_type": "stream",
     "text": [
      "enter the table; 5\n",
      "enter the start value 1\n",
      "enter the stop value 11\n",
      "5 x 1 = 5\n",
      "5 x 2 = 10\n",
      "5 x 3 = 15\n",
      "5 x 4 = 20\n",
      "5 x 5 = 25\n",
      "5 x 6 = 30\n",
      "5 x 7 = 35\n",
      "5 x 8 = 40\n",
      "5 x 9 = 45\n",
      "5 x 10 = 50\n"
     ]
    }
   ],
   "source": [
    "num=int(input(\"enter the table; \"))\n",
    "start=int(input(\"enter the start value \"))\n",
    "stop=int(input(\"enter the stop value \"))\n",
    "for i in range(start,stop):\n",
    "    print(num, 'x', i, '=', num*i)"
   ]
  },
  {
   "cell_type": "raw",
   "id": "bb136624",
   "metadata": {},
   "source": [
    "Write a program to calculate the sum of cubes of numbers"
   ]
  },
  {
   "cell_type": "code",
   "execution_count": 90,
   "id": "21fa9f8f",
   "metadata": {},
   "outputs": [
    {
     "name": "stdout",
     "output_type": "stream",
     "text": [
      "enter the value 3\n",
      "36\n"
     ]
    }
   ],
   "source": [
    "num=int(input(\"enter the value \"))\n",
    "s=0\n",
    "for i in range(1, num+1):\n",
    "    a=i**3\n",
    "    s=s+a\n",
    "print(s)"
   ]
  },
  {
   "cell_type": "raw",
   "id": "05758718",
   "metadata": {},
   "source": [
    "Reverse of the Number\n",
    "123=321\n",
    "num=123\n",
    "rev=0\n",
    "digit=num%10\n",
    "rev=rev*10+digit\n",
    "num=num//10\n",
    "I1:\n",
    "    digit=123%10=3\n",
    "    rev=0*10+3= 3\n",
    "    num=123//10= 12\n",
    "    \n",
    "I2: num=12\n",
    "    digit=12%10=2\n",
    "    rev=3*10+2= 32\n",
    "    num=12//10=1    \n",
    "i3: num=1\n",
    "    digit=1%10=1\n",
    "    rev=32*10+1=320+1=321\n",
    "    num=1//10  \n",
    "    print(rev"
   ]
  },
  {
   "cell_type": "code",
   "execution_count": 99,
   "id": "1988d303",
   "metadata": {},
   "outputs": [
    {
     "name": "stdout",
     "output_type": "stream",
     "text": [
      "enter the value 123\n",
      "the reverse of the number 123 is 321\n"
     ]
    }
   ],
   "source": [
    "num=int(input(\"enter the value \"))\n",
    "temp=num\n",
    "rev=0\n",
    "while(num!=0):\n",
    "    digit=num%10\n",
    "    rev=rev*10+digit\n",
    "    num=num//10\n",
    "print(\"the reverse of the number\",temp,\"is\",rev)"
   ]
  },
  {
   "cell_type": "raw",
   "id": "81e5dc71",
   "metadata": {},
   "source": [
    "sum of the digit:\n",
    "123 = 1+2+3=6\n",
    "num=123\n",
    "sum=0\n",
    "\n",
    "rem=num%10\n",
    "sum=sum+rem\n",
    "num=num//10\n",
    "\n",
    "I1: num=123\n",
    "    rem=123%10=3\n",
    "    sum=0+3=3\n",
    "    num=123//10=12\n",
    "I2: num=12\n",
    "    rem=12%10=2\n",
    "    sum=3+2=5\n",
    "    num=12//10=1\n",
    "I3: num=1\n",
    "    rem=1%10=1\n",
    "    sum=5+1= 6\n",
    "    num=1//10= 0\n",
    "print(sum)\n",
    "    "
   ]
  },
  {
   "cell_type": "code",
   "execution_count": 103,
   "id": "ed066930",
   "metadata": {
    "scrolled": true
   },
   "outputs": [
    {
     "name": "stdout",
     "output_type": "stream",
     "text": [
      "enter the value 334\n",
      "the sum of the number 334 is 10\n"
     ]
    }
   ],
   "source": [
    "num=int(input(\"enter the value \"))\n",
    "temp=num\n",
    "sum=0\n",
    "while(num!=0):\n",
    "    rem=num%10\n",
    "    sum=sum+rem\n",
    "    num=num//10\n",
    "print(\"the sum of the number\",temp,\"is\",sum)"
   ]
  },
  {
   "cell_type": "code",
   "execution_count": 113,
   "id": "7d9d2b47",
   "metadata": {},
   "outputs": [
    {
     "name": "stdout",
     "output_type": "stream",
     "text": [
      "enter the value 123\n",
      "not amstrong\n",
      "sum 81\n"
     ]
    }
   ],
   "source": [
    "num1=int(input(\"enter the value \"))\n",
    "temp=num1\n",
    "sum=0\n",
    "while(num1!=0):\n",
    "    digit=temp%10\n",
    "    sum=sum+digit**3\n",
    "    num1=num1//10\n",
    "if(temp==sum):\n",
    "    print(\"amstrong\")\n",
    "else:\n",
    "    print(\"not amstrong\")\n",
    "    print(\"sum\",sum)"
   ]
  },
  {
   "cell_type": "code",
   "execution_count": null,
   "id": "4c0465b7",
   "metadata": {},
   "outputs": [],
   "source": []
  }
 ],
 "metadata": {
  "kernelspec": {
   "display_name": "Python 3 (ipykernel)",
   "language": "python",
   "name": "python3"
  },
  "language_info": {
   "codemirror_mode": {
    "name": "ipython",
    "version": 3
   },
   "file_extension": ".py",
   "mimetype": "text/x-python",
   "name": "python",
   "nbconvert_exporter": "python",
   "pygments_lexer": "ipython3",
   "version": "3.9.7"
  }
 },
 "nbformat": 4,
 "nbformat_minor": 5
}
