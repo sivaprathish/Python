{
 "cells": [
  {
   "cell_type": "markdown",
   "id": "63e3114b",
   "metadata": {},
   "source": [
    "# Name: varsha chellapandian\n",
    "# id:E6221011\n",
    "# stream: b.sc data science \n",
    "# course: python\n",
    "# course : csc 120\n",
    "# date :4 / 12 /2021"
   ]
  },
  {
   "cell_type": "markdown",
   "id": "2047a2dc",
   "metadata": {},
   "source": [
    "# python program\n"
   ]
  },
  {
   "cell_type": "markdown",
   "id": "0042695a",
   "metadata": {},
   "source": [
    "# variable"
   ]
  },
  {
   "cell_type": "code",
   "execution_count": 4,
   "id": "8ba94395",
   "metadata": {},
   "outputs": [],
   "source": [
    "a=10"
   ]
  },
  {
   "cell_type": "code",
   "execution_count": 5,
   "id": "76735e57",
   "metadata": {},
   "outputs": [
    {
     "data": {
      "text/plain": [
       "10"
      ]
     },
     "execution_count": 5,
     "metadata": {},
     "output_type": "execute_result"
    }
   ],
   "source": [
    "a"
   ]
  },
  {
   "cell_type": "code",
   "execution_count": 6,
   "id": "40daf9aa",
   "metadata": {},
   "outputs": [
    {
     "data": {
      "text/plain": [
       "int"
      ]
     },
     "execution_count": 6,
     "metadata": {},
     "output_type": "execute_result"
    }
   ],
   "source": [
    "type(a)"
   ]
  },
  {
   "cell_type": "code",
   "execution_count": 7,
   "id": "3f3dd20f",
   "metadata": {},
   "outputs": [],
   "source": [
    "b=10.5"
   ]
  },
  {
   "cell_type": "code",
   "execution_count": 8,
   "id": "2cbb8618",
   "metadata": {},
   "outputs": [
    {
     "data": {
      "text/plain": [
       "float"
      ]
     },
     "execution_count": 8,
     "metadata": {},
     "output_type": "execute_result"
    }
   ],
   "source": [
    "type(b)"
   ]
  },
  {
   "cell_type": "code",
   "execution_count": 9,
   "id": "27c17140",
   "metadata": {},
   "outputs": [],
   "source": [
    "s=\"siva\""
   ]
  },
  {
   "cell_type": "code",
   "execution_count": 10,
   "id": "777cc7e5",
   "metadata": {},
   "outputs": [
    {
     "data": {
      "text/plain": [
       "str"
      ]
     },
     "execution_count": 10,
     "metadata": {},
     "output_type": "execute_result"
    }
   ],
   "source": [
    "type(s)"
   ]
  },
  {
   "cell_type": "raw",
   "id": "7165a4a9",
   "metadata": {},
   "source": [
    "Create a variable named carname and assign the value Volvo to it"
   ]
  },
  {
   "cell_type": "code",
   "execution_count": 12,
   "id": "084763e9",
   "metadata": {},
   "outputs": [],
   "source": [
    "carname=\"volvo\""
   ]
  },
  {
   "cell_type": "code",
   "execution_count": 13,
   "id": "ac42317f",
   "metadata": {},
   "outputs": [
    {
     "data": {
      "text/plain": [
       "str"
      ]
     },
     "execution_count": 13,
     "metadata": {},
     "output_type": "execute_result"
    }
   ],
   "source": [
    "type(carname)"
   ]
  },
  {
   "cell_type": "markdown",
   "id": "156e0d3a",
   "metadata": {},
   "source": [
    "# Data Types"
   ]
  },
  {
   "cell_type": "code",
   "execution_count": 14,
   "id": "11d79207",
   "metadata": {},
   "outputs": [],
   "source": [
    "A=True"
   ]
  },
  {
   "cell_type": "code",
   "execution_count": 15,
   "id": "d0ccdd75",
   "metadata": {},
   "outputs": [
    {
     "data": {
      "text/plain": [
       "bool"
      ]
     },
     "execution_count": 15,
     "metadata": {},
     "output_type": "execute_result"
    }
   ],
   "source": [
    "type(A)"
   ]
  },
  {
   "cell_type": "code",
   "execution_count": 16,
   "id": "59b135f6",
   "metadata": {},
   "outputs": [],
   "source": [
    "s=['sret',456,'siva']"
   ]
  },
  {
   "cell_type": "code",
   "execution_count": 17,
   "id": "cf05e397",
   "metadata": {},
   "outputs": [
    {
     "data": {
      "text/plain": [
       "list"
      ]
     },
     "execution_count": 17,
     "metadata": {},
     "output_type": "execute_result"
    }
   ],
   "source": [
    "type(s)"
   ]
  },
  {
   "cell_type": "code",
   "execution_count": 18,
   "id": "a28427b8",
   "metadata": {},
   "outputs": [],
   "source": [
    "r=('sret',456,'siva')"
   ]
  },
  {
   "cell_type": "code",
   "execution_count": 19,
   "id": "8017de32",
   "metadata": {},
   "outputs": [
    {
     "data": {
      "text/plain": [
       "tuple"
      ]
     },
     "execution_count": 19,
     "metadata": {},
     "output_type": "execute_result"
    }
   ],
   "source": [
    "type(r)"
   ]
  },
  {
   "cell_type": "code",
   "execution_count": 20,
   "id": "5e823991",
   "metadata": {},
   "outputs": [
    {
     "data": {
      "text/plain": [
       "'sret'"
      ]
     },
     "execution_count": 20,
     "metadata": {},
     "output_type": "execute_result"
    }
   ],
   "source": [
    "s[0]"
   ]
  },
  {
   "cell_type": "code",
   "execution_count": 21,
   "id": "a36edd21",
   "metadata": {},
   "outputs": [
    {
     "data": {
      "text/plain": [
       "'siva'"
      ]
     },
     "execution_count": 21,
     "metadata": {},
     "output_type": "execute_result"
    }
   ],
   "source": [
    "s[2]"
   ]
  },
  {
   "cell_type": "code",
   "execution_count": 25,
   "id": "8e08e557",
   "metadata": {},
   "outputs": [
    {
     "data": {
      "text/plain": [
       "7"
      ]
     },
     "execution_count": 25,
     "metadata": {},
     "output_type": "execute_result"
    }
   ],
   "source": [
    "s[1]"
   ]
  },
  {
   "cell_type": "code",
   "execution_count": 27,
   "id": "0484aa4a",
   "metadata": {},
   "outputs": [
    {
     "data": {
      "text/plain": [
       "456"
      ]
     },
     "execution_count": 27,
     "metadata": {},
     "output_type": "execute_result"
    }
   ],
   "source": [
    "r[1]"
   ]
  },
  {
   "cell_type": "code",
   "execution_count": 34,
   "id": "fb11e5db",
   "metadata": {},
   "outputs": [],
   "source": [
    "x={'ap','er','wd','ap',1,2,6}"
   ]
  },
  {
   "cell_type": "code",
   "execution_count": 32,
   "id": "80bfaf54",
   "metadata": {},
   "outputs": [
    {
     "data": {
      "text/plain": [
       "{'ap', 'er', 'wd'}"
      ]
     },
     "execution_count": 32,
     "metadata": {},
     "output_type": "execute_result"
    }
   ],
   "source": [
    "x"
   ]
  },
  {
   "cell_type": "code",
   "execution_count": 35,
   "id": "e1745116",
   "metadata": {},
   "outputs": [
    {
     "data": {
      "text/plain": [
       "{1, 2, 6, 'ap', 'er', 'wd'}"
      ]
     },
     "execution_count": 35,
     "metadata": {},
     "output_type": "execute_result"
    }
   ],
   "source": [
    "x"
   ]
  },
  {
   "cell_type": "code",
   "execution_count": 36,
   "id": "9c0cf300",
   "metadata": {},
   "outputs": [],
   "source": [
    "d={a:4,b:\"sp\"}"
   ]
  },
  {
   "cell_type": "code",
   "execution_count": 37,
   "id": "3d47f086",
   "metadata": {},
   "outputs": [
    {
     "data": {
      "text/plain": [
       "{10: 4, 10.5: 'sp'}"
      ]
     },
     "execution_count": 37,
     "metadata": {},
     "output_type": "execute_result"
    }
   ],
   "source": [
    "d"
   ]
  },
  {
   "cell_type": "code",
   "execution_count": 38,
   "id": "7b312267",
   "metadata": {},
   "outputs": [
    {
     "data": {
      "text/plain": [
       "dict"
      ]
     },
     "execution_count": 38,
     "metadata": {},
     "output_type": "execute_result"
    }
   ],
   "source": [
    "type(d)"
   ]
  },
  {
   "cell_type": "code",
   "execution_count": 39,
   "id": "5cabebd3",
   "metadata": {},
   "outputs": [
    {
     "data": {
      "text/plain": [
       "4"
      ]
     },
     "execution_count": 39,
     "metadata": {},
     "output_type": "execute_result"
    }
   ],
   "source": [
    "d[a]"
   ]
  },
  {
   "cell_type": "raw",
   "id": "89c57672",
   "metadata": {},
   "source": [
    " 1. List  - create and access ,update\n",
    "2.Tuple - create and access and update \n",
    "3. Difference b/w list and tuple\n",
    "4. Create set \n",
    "5. Create dictionary with list of elements- access the dict values"
   ]
  },
  {
   "cell_type": "markdown",
   "id": "f378c38b",
   "metadata": {},
   "source": [
    "# list"
   ]
  },
  {
   "cell_type": "code",
   "execution_count": 40,
   "id": "02d3323c",
   "metadata": {},
   "outputs": [],
   "source": [
    "siva=[\"s\",45,\"er\"]"
   ]
  },
  {
   "cell_type": "code",
   "execution_count": 44,
   "id": "8d076ae4",
   "metadata": {},
   "outputs": [
    {
     "data": {
      "text/plain": [
       "'er'"
      ]
     },
     "execution_count": 44,
     "metadata": {},
     "output_type": "execute_result"
    }
   ],
   "source": [
    "siva[2]"
   ]
  },
  {
   "cell_type": "code",
   "execution_count": 53,
   "id": "2e84eeae",
   "metadata": {},
   "outputs": [],
   "source": [
    "siva[2]=33"
   ]
  },
  {
   "cell_type": "code",
   "execution_count": 54,
   "id": "7f82faa4",
   "metadata": {},
   "outputs": [
    {
     "data": {
      "text/plain": [
       "33"
      ]
     },
     "execution_count": 54,
     "metadata": {},
     "output_type": "execute_result"
    }
   ],
   "source": [
    "siva[2]"
   ]
  },
  {
   "cell_type": "markdown",
   "id": "f5e68203",
   "metadata": {},
   "source": [
    "# tuple"
   ]
  },
  {
   "cell_type": "code",
   "execution_count": 45,
   "id": "05d5b043",
   "metadata": {},
   "outputs": [],
   "source": [
    "f=('s','er',33)"
   ]
  },
  {
   "cell_type": "code",
   "execution_count": 46,
   "id": "fd5e5b66",
   "metadata": {},
   "outputs": [
    {
     "data": {
      "text/plain": [
       "tuple"
      ]
     },
     "execution_count": 46,
     "metadata": {},
     "output_type": "execute_result"
    }
   ],
   "source": [
    "type(f)"
   ]
  },
  {
   "cell_type": "code",
   "execution_count": 47,
   "id": "9e47a7d5",
   "metadata": {},
   "outputs": [
    {
     "data": {
      "text/plain": [
       "33"
      ]
     },
     "execution_count": 47,
     "metadata": {},
     "output_type": "execute_result"
    }
   ],
   "source": [
    "f[2]"
   ]
  },
  {
   "cell_type": "code",
   "execution_count": 55,
   "id": "a50c7450",
   "metadata": {},
   "outputs": [
    {
     "ename": "TypeError",
     "evalue": "'tuple' object does not support item assignment",
     "output_type": "error",
     "traceback": [
      "\u001b[1;31m---------------------------------------------------------------------------\u001b[0m",
      "\u001b[1;31mTypeError\u001b[0m                                 Traceback (most recent call last)",
      "\u001b[1;32m~\\AppData\\Local\\Temp/ipykernel_26340/921273147.py\u001b[0m in \u001b[0;36m<module>\u001b[1;34m\u001b[0m\n\u001b[1;32m----> 1\u001b[1;33m \u001b[0mf\u001b[0m\u001b[1;33m[\u001b[0m\u001b[1;36m2\u001b[0m\u001b[1;33m]\u001b[0m\u001b[1;33m=\u001b[0m\u001b[1;36m44\u001b[0m\u001b[1;33m\u001b[0m\u001b[1;33m\u001b[0m\u001b[0m\n\u001b[0m",
      "\u001b[1;31mTypeError\u001b[0m: 'tuple' object does not support item assignment"
     ]
    }
   ],
   "source": [
    "f[2]=44"
   ]
  },
  {
   "cell_type": "markdown",
   "id": "f07f0509",
   "metadata": {},
   "source": [
    "##  Difference b/w list and tuple"
   ]
  },
  {
   "cell_type": "raw",
   "id": "292e787e",
   "metadata": {},
   "source": [
    "list; we can update\n",
    "tuple; we cannot update"
   ]
  },
  {
   "cell_type": "markdown",
   "id": "7a5f09c9",
   "metadata": {},
   "source": [
    "# set"
   ]
  },
  {
   "cell_type": "code",
   "execution_count": 48,
   "id": "d27fbbb5",
   "metadata": {},
   "outputs": [],
   "source": [
    "k={1,2,3,'ca','ad','sp'}"
   ]
  },
  {
   "cell_type": "code",
   "execution_count": 49,
   "id": "95163f10",
   "metadata": {},
   "outputs": [
    {
     "data": {
      "text/plain": [
       "{1, 2, 3, 'ad', 'ca', 'sp'}"
      ]
     },
     "execution_count": 49,
     "metadata": {},
     "output_type": "execute_result"
    }
   ],
   "source": [
    "k"
   ]
  },
  {
   "cell_type": "markdown",
   "id": "986390ce",
   "metadata": {},
   "source": [
    "# dict"
   ]
  },
  {
   "cell_type": "code",
   "execution_count": 51,
   "id": "c118db94",
   "metadata": {},
   "outputs": [],
   "source": [
    "v={1:'siva',2:'prathish'}"
   ]
  },
  {
   "cell_type": "code",
   "execution_count": 52,
   "id": "90fc2a60",
   "metadata": {},
   "outputs": [
    {
     "data": {
      "text/plain": [
       "'prathish'"
      ]
     },
     "execution_count": 52,
     "metadata": {},
     "output_type": "execute_result"
    }
   ],
   "source": [
    "v[2]"
   ]
  },
  {
   "cell_type": "markdown",
   "id": "7fc6f3a7",
   "metadata": {},
   "source": [
    "# input()"
   ]
  },
  {
   "cell_type": "code",
   "execution_count": 56,
   "id": "7183b281",
   "metadata": {},
   "outputs": [
    {
     "name": "stdout",
     "output_type": "stream",
     "text": [
      "enter the namesiva\n"
     ]
    }
   ],
   "source": [
    "name=input(\"enter the name\")"
   ]
  },
  {
   "cell_type": "code",
   "execution_count": 57,
   "id": "c833c94f",
   "metadata": {},
   "outputs": [
    {
     "data": {
      "text/plain": [
       "'siva'"
      ]
     },
     "execution_count": 57,
     "metadata": {},
     "output_type": "execute_result"
    }
   ],
   "source": [
    "name"
   ]
  },
  {
   "cell_type": "code",
   "execution_count": 59,
   "id": "bc759620",
   "metadata": {},
   "outputs": [
    {
     "name": "stdout",
     "output_type": "stream",
     "text": [
      "enter number0007\n"
     ]
    }
   ],
   "source": [
    "n=int(input(\"enter number\"))"
   ]
  },
  {
   "cell_type": "code",
   "execution_count": 60,
   "id": "71c5fa6d",
   "metadata": {},
   "outputs": [
    {
     "data": {
      "text/plain": [
       "7"
      ]
     },
     "execution_count": 60,
     "metadata": {},
     "output_type": "execute_result"
    }
   ],
   "source": [
    "n"
   ]
  },
  {
   "cell_type": "code",
   "execution_count": 61,
   "id": "7b34bd81",
   "metadata": {},
   "outputs": [
    {
     "data": {
      "text/plain": [
       "str"
      ]
     },
     "execution_count": 61,
     "metadata": {},
     "output_type": "execute_result"
    }
   ],
   "source": [
    "type(name)"
   ]
  },
  {
   "cell_type": "code",
   "execution_count": 62,
   "id": "0f22b6ca",
   "metadata": {},
   "outputs": [
    {
     "data": {
      "text/plain": [
       "int"
      ]
     },
     "execution_count": 62,
     "metadata": {},
     "output_type": "execute_result"
    }
   ],
   "source": [
    "type(n)"
   ]
  },
  {
   "cell_type": "code",
   "execution_count": 64,
   "id": "88d610f5",
   "metadata": {},
   "outputs": [
    {
     "name": "stdout",
     "output_type": "stream",
     "text": [
      "siva welcome\n"
     ]
    }
   ],
   "source": [
    "print(name,\"welcome\")"
   ]
  },
  {
   "cell_type": "code",
   "execution_count": 65,
   "id": "d25e0a3b",
   "metadata": {},
   "outputs": [
    {
     "name": "stdout",
     "output_type": "stream",
     "text": [
      "enter the mark100\n"
     ]
    }
   ],
   "source": [
    "mark=int(input(\"enter the mark\"))"
   ]
  },
  {
   "cell_type": "code",
   "execution_count": 66,
   "id": "84f524e6",
   "metadata": {},
   "outputs": [
    {
     "name": "stdout",
     "output_type": "stream",
     "text": [
      "hi siva python mark 100\n"
     ]
    }
   ],
   "source": [
    "print(\"hi\",name,\"python mark\",mark)"
   ]
  },
  {
   "cell_type": "markdown",
   "id": "f7547f92",
   "metadata": {},
   "source": [
    "Write a program to take name, ID, and field of interest from user and print in the below format\n",
    "Format: Hey!, My name is Sam and My ID is 11.\n",
    "My field of interest is Machine Learning"
   ]
  },
  {
   "cell_type": "code",
   "execution_count": 69,
   "id": "c05585ac",
   "metadata": {},
   "outputs": [
    {
     "name": "stdout",
     "output_type": "stream",
     "text": [
      "enter the namesiva\n",
      "enter the numbere6622\n",
      "enter the fielddata science\n"
     ]
    }
   ],
   "source": [
    "name=input(\"enter the name\")\n",
    "ID=input('enter the number')\n",
    "field=input('enter the field')"
   ]
  },
  {
   "cell_type": "code",
   "execution_count": 72,
   "id": "a09dcc63",
   "metadata": {},
   "outputs": [
    {
     "name": "stdout",
     "output_type": "stream",
     "text": [
      "my name is  siva and my e6622 my field of interest is data science\n"
     ]
    }
   ],
   "source": [
    "print('my name is ',name,'and my',ID,'my field of interest is',field,)"
   ]
  },
  {
   "cell_type": "code",
   "execution_count": null,
   "id": "89032c8f",
   "metadata": {},
   "outputs": [],
   "source": []
  }
 ],
 "metadata": {
  "kernelspec": {
   "display_name": "Python 3 (ipykernel)",
   "language": "python",
   "name": "python3"
  },
  "language_info": {
   "codemirror_mode": {
    "name": "ipython",
    "version": 3
   },
   "file_extension": ".py",
   "mimetype": "text/x-python",
   "name": "python",
   "nbconvert_exporter": "python",
   "pygments_lexer": "ipython3",
   "version": "3.9.7"
  }
 },
 "nbformat": 4,
 "nbformat_minor": 5
}
